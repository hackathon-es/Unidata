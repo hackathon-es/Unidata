{
  "nbformat": 4,
  "nbformat_minor": 0,
  "metadata": {
    "colab": {
      "name": "HackathonES-Unidata.ipynb",
      "provenance": [],
      "toc_visible": true
    },
    "kernelspec": {
      "name": "python3",
      "display_name": "Python 3"
    }
  },
  "cells": [
    {
      "cell_type": "code",
      "metadata": {
        "id": "Nj7NXriP4KWu",
        "colab_type": "code",
        "colab": {}
      },
      "source": [
        "import pandas as pd\n",
        "import pandas as pd\n",
        "import numpy as np\n",
        "import matplotlib.pyplot as plt\n",
        "import seaborn as sns\n",
        "import datetime\n",
        "%matplotlib inline"
      ],
      "execution_count": 0,
      "outputs": []
    },
    {
      "cell_type": "code",
      "metadata": {
        "id": "ETRqAo-f4LbK",
        "colab_type": "code",
        "colab": {}
      },
      "source": [
        "SizeLb = 20\n",
        "SizeTk = 15\n",
        "SizeTt = 25\n",
        "SizeLg = 20\n",
        "\n",
        "pd.set_option('display.max_columns', 500)\n",
        "pd.set_option('display.max_rows', 500)"
      ],
      "execution_count": 0,
      "outputs": []
    },
    {
      "cell_type": "markdown",
      "metadata": {
        "id": "5gCz3kxu7XIS",
        "colab_type": "text"
      },
      "source": [
        "# IMPORTANDO OS DADOS"
      ]
    },
    {
      "cell_type": "code",
      "metadata": {
        "id": "BfXmnApI4Lh5",
        "colab_type": "code",
        "outputId": "fc963c90-5a58-4a9e-fa63-d2634ec5cd76",
        "colab": {
          "base_uri": "https://localhost:8080/",
          "height": 194
        }
      },
      "source": [
        "# Este arquivo contém as despesas médicas de 5.000 beneficiários no decorrer de 3 anos.\n",
        "# As linhas abaixo importam esse dataset.\n",
        "dt_despesas_medicas = pd.read_csv(\"despesas_medicas.csv\", sep=',')\n",
        "dt_despesas_medicas.head()"
      ],
      "execution_count": 3,
      "outputs": [
        {
          "output_type": "execute_result",
          "data": {
            "text/html": [
              "<div>\n",
              "<style scoped>\n",
              "    .dataframe tbody tr th:only-of-type {\n",
              "        vertical-align: middle;\n",
              "    }\n",
              "\n",
              "    .dataframe tbody tr th {\n",
              "        vertical-align: top;\n",
              "    }\n",
              "\n",
              "    .dataframe thead th {\n",
              "        text-align: right;\n",
              "    }\n",
              "</style>\n",
              "<table border=\"1\" class=\"dataframe\">\n",
              "  <thead>\n",
              "    <tr style=\"text-align: right;\">\n",
              "      <th></th>\n",
              "      <th>CNAE_ID</th>\n",
              "      <th>PACIENTE_ID</th>\n",
              "      <th>SEXO</th>\n",
              "      <th>ANO_NASCIMENTO</th>\n",
              "      <th>COMPET</th>\n",
              "      <th>CID</th>\n",
              "      <th>PROCEDIMENTO_ID</th>\n",
              "      <th>QTD</th>\n",
              "      <th>VLR_TOTAL</th>\n",
              "    </tr>\n",
              "  </thead>\n",
              "  <tbody>\n",
              "    <tr>\n",
              "      <th>0</th>\n",
              "      <td>1052000</td>\n",
              "      <td>3724852462</td>\n",
              "      <td>M</td>\n",
              "      <td>1934</td>\n",
              "      <td>102017</td>\n",
              "      <td>R53</td>\n",
              "      <td>90211111</td>\n",
              "      <td>5.0</td>\n",
              "      <td>1.26</td>\n",
              "    </tr>\n",
              "    <tr>\n",
              "      <th>1</th>\n",
              "      <td>NaN</td>\n",
              "      <td>4214008789</td>\n",
              "      <td>F</td>\n",
              "      <td>1920</td>\n",
              "      <td>82018</td>\n",
              "      <td>NaN</td>\n",
              "      <td>75208229</td>\n",
              "      <td>2.0</td>\n",
              "      <td>0.00</td>\n",
              "    </tr>\n",
              "    <tr>\n",
              "      <th>2</th>\n",
              "      <td>NaN</td>\n",
              "      <td>762205882</td>\n",
              "      <td>F</td>\n",
              "      <td>1924</td>\n",
              "      <td>92017</td>\n",
              "      <td>NaN</td>\n",
              "      <td>75208229</td>\n",
              "      <td>1.0</td>\n",
              "      <td>0.66</td>\n",
              "    </tr>\n",
              "    <tr>\n",
              "      <th>3</th>\n",
              "      <td>NaN</td>\n",
              "      <td>652221324</td>\n",
              "      <td>M</td>\n",
              "      <td>1928</td>\n",
              "      <td>92017</td>\n",
              "      <td>NaN</td>\n",
              "      <td>75208229</td>\n",
              "      <td>2.0</td>\n",
              "      <td>1.32</td>\n",
              "    </tr>\n",
              "    <tr>\n",
              "      <th>4</th>\n",
              "      <td>NaN</td>\n",
              "      <td>723684431</td>\n",
              "      <td>F</td>\n",
              "      <td>2005</td>\n",
              "      <td>32017</td>\n",
              "      <td>J961</td>\n",
              "      <td>75208229</td>\n",
              "      <td>100.0</td>\n",
              "      <td>3.00</td>\n",
              "    </tr>\n",
              "  </tbody>\n",
              "</table>\n",
              "</div>"
            ],
            "text/plain": [
              "   CNAE_ID  PACIENTE_ID SEXO  ANO_NASCIMENTO  COMPET   CID  PROCEDIMENTO_ID  \\\n",
              "0  1052000   3724852462    M            1934  102017   R53         90211111   \n",
              "1      NaN   4214008789    F            1920   82018   NaN         75208229   \n",
              "2      NaN    762205882    F            1924   92017   NaN         75208229   \n",
              "3      NaN    652221324    M            1928   92017   NaN         75208229   \n",
              "4      NaN    723684431    F            2005   32017  J961         75208229   \n",
              "\n",
              "     QTD  VLR_TOTAL  \n",
              "0    5.0       1.26  \n",
              "1    2.0       0.00  \n",
              "2    1.0       0.66  \n",
              "3    2.0       1.32  \n",
              "4  100.0       3.00  "
            ]
          },
          "metadata": {
            "tags": []
          },
          "execution_count": 3
        }
      ]
    },
    {
      "cell_type": "code",
      "metadata": {
        "id": "UvftoX1J4Lkc",
        "colab_type": "code",
        "outputId": "a34cee5e-4f05-4d58-bba2-d17fc89e0076",
        "colab": {
          "base_uri": "https://localhost:8080/",
          "height": 266
        }
      },
      "source": [
        "dt_despesas_medicas.info(verbose=True, null_counts=True)"
      ],
      "execution_count": 4,
      "outputs": [
        {
          "output_type": "stream",
          "text": [
            "<class 'pandas.core.frame.DataFrame'>\n",
            "RangeIndex: 1840660 entries, 0 to 1840659\n",
            "Data columns (total 9 columns):\n",
            "CNAE_ID            854412 non-null object\n",
            "PACIENTE_ID        1840660 non-null int64\n",
            "SEXO               1840660 non-null object\n",
            "ANO_NASCIMENTO     1840660 non-null int64\n",
            "COMPET             1840660 non-null int64\n",
            "CID                969591 non-null object\n",
            "PROCEDIMENTO_ID    1840660 non-null int64\n",
            "QTD                1840660 non-null float64\n",
            "VLR_TOTAL          1840660 non-null float64\n",
            "dtypes: float64(2), int64(4), object(3)\n",
            "memory usage: 126.4+ MB\n"
          ],
          "name": "stdout"
        }
      ]
    },
    {
      "cell_type": "code",
      "metadata": {
        "id": "LY7MD9064LhN",
        "colab_type": "code",
        "colab": {}
      },
      "source": [
        "# Esse possui a classificação do procedimento\n",
        "dt_p = pd.read_csv(\"procedimentos.csv\")\n",
        "dt_p_classificacao = pd.read_csv(\"procedimentos_classificacao.csv\")"
      ],
      "execution_count": 0,
      "outputs": []
    },
    {
      "cell_type": "code",
      "metadata": {
        "id": "JFjcBzJKfBKd",
        "colab_type": "code",
        "outputId": "759ea4a3-8e61-4ecd-a80f-43db1741cf5a",
        "colab": {
          "base_uri": "https://localhost:8080/",
          "height": 399
        }
      },
      "source": [
        "dt_p"
      ],
      "execution_count": 6,
      "outputs": [
        {
          "output_type": "execute_result",
          "data": {
            "text/html": [
              "<div>\n",
              "<style scoped>\n",
              "    .dataframe tbody tr th:only-of-type {\n",
              "        vertical-align: middle;\n",
              "    }\n",
              "\n",
              "    .dataframe tbody tr th {\n",
              "        vertical-align: top;\n",
              "    }\n",
              "\n",
              "    .dataframe thead th {\n",
              "        text-align: right;\n",
              "    }\n",
              "</style>\n",
              "<table border=\"1\" class=\"dataframe\">\n",
              "  <thead>\n",
              "    <tr style=\"text-align: right;\">\n",
              "      <th></th>\n",
              "      <th>PROCEDIMENTO_ID</th>\n",
              "      <th>PROCEDIMENTO_NOME</th>\n",
              "      <th>CLPROCED_ID</th>\n",
              "    </tr>\n",
              "  </thead>\n",
              "  <tbody>\n",
              "    <tr>\n",
              "      <th>0</th>\n",
              "      <td>30301017</td>\n",
              "      <td>ABSCESSO DE PALPEBRA - DRENAGEM</td>\n",
              "      <td>213</td>\n",
              "    </tr>\n",
              "    <tr>\n",
              "      <th>1</th>\n",
              "      <td>30101298</td>\n",
              "      <td>ELETROCOAGULACAO DE LESOES DE PELE E MUCOSAS -...</td>\n",
              "      <td>213</td>\n",
              "    </tr>\n",
              "    <tr>\n",
              "      <th>2</th>\n",
              "      <td>70877777</td>\n",
              "      <td>ENTRIFLEX SONDA PARA ALIMENTACAO ENTERAL NAO E...</td>\n",
              "      <td>11</td>\n",
              "    </tr>\n",
              "    <tr>\n",
              "      <th>3</th>\n",
              "      <td>40304116</td>\n",
              "      <td>ENZIMAS ERITROCITARIAS- (ADENILATOQUINASE- DES...</td>\n",
              "      <td>250</td>\n",
              "    </tr>\n",
              "    <tr>\n",
              "      <th>4</th>\n",
              "      <td>90032527</td>\n",
              "      <td>DEXPANTENOL - EPITEGEL 50 MG/G GEL OFT CT BG P...</td>\n",
              "      <td>12</td>\n",
              "    </tr>\n",
              "    <tr>\n",
              "      <th>...</th>\n",
              "      <td>...</td>\n",
              "      <td>...</td>\n",
              "      <td>...</td>\n",
              "    </tr>\n",
              "    <tr>\n",
              "      <th>10355</th>\n",
              "      <td>70018847</td>\n",
              "      <td>ALCA DE POLIPECTOMIA STANDARD OVAL - SENSATION...</td>\n",
              "      <td>11</td>\n",
              "    </tr>\n",
              "    <tr>\n",
              "      <th>10356</th>\n",
              "      <td>77515706</td>\n",
              "      <td>EQUIPO BOMBA INFUSAO GIRASET CRISTAL INJETOR L...</td>\n",
              "      <td>11</td>\n",
              "    </tr>\n",
              "    <tr>\n",
              "      <th>10357</th>\n",
              "      <td>70852197</td>\n",
              "      <td>EQUIPO BOMBA INFUSAO P/ ADMINISTRACAO DE SANGUE</td>\n",
              "      <td>11</td>\n",
              "    </tr>\n",
              "    <tr>\n",
              "      <th>10358</th>\n",
              "      <td>70237808</td>\n",
              "      <td>EXTRATOR DE CALCULO - SONDA EXTRATORA DE CALCU...</td>\n",
              "      <td>15</td>\n",
              "    </tr>\n",
              "    <tr>\n",
              "      <th>10359</th>\n",
              "      <td>90249992</td>\n",
              "      <td>OMNIPAQUE 300 MG I/ML SOL INJ CT FR PLAS TRANS...</td>\n",
              "      <td>12</td>\n",
              "    </tr>\n",
              "  </tbody>\n",
              "</table>\n",
              "<p>10360 rows × 3 columns</p>\n",
              "</div>"
            ],
            "text/plain": [
              "       PROCEDIMENTO_ID                                  PROCEDIMENTO_NOME  \\\n",
              "0             30301017                   ABSCESSO DE PALPEBRA - DRENAGEM    \n",
              "1             30101298  ELETROCOAGULACAO DE LESOES DE PELE E MUCOSAS -...   \n",
              "2             70877777  ENTRIFLEX SONDA PARA ALIMENTACAO ENTERAL NAO E...   \n",
              "3             40304116  ENZIMAS ERITROCITARIAS- (ADENILATOQUINASE- DES...   \n",
              "4             90032527  DEXPANTENOL - EPITEGEL 50 MG/G GEL OFT CT BG P...   \n",
              "...                ...                                                ...   \n",
              "10355         70018847  ALCA DE POLIPECTOMIA STANDARD OVAL - SENSATION...   \n",
              "10356         77515706  EQUIPO BOMBA INFUSAO GIRASET CRISTAL INJETOR L...   \n",
              "10357         70852197   EQUIPO BOMBA INFUSAO P/ ADMINISTRACAO DE SANGUE    \n",
              "10358         70237808  EXTRATOR DE CALCULO - SONDA EXTRATORA DE CALCU...   \n",
              "10359         90249992  OMNIPAQUE 300 MG I/ML SOL INJ CT FR PLAS TRANS...   \n",
              "\n",
              "       CLPROCED_ID  \n",
              "0              213  \n",
              "1              213  \n",
              "2               11  \n",
              "3              250  \n",
              "4               12  \n",
              "...            ...  \n",
              "10355           11  \n",
              "10356           11  \n",
              "10357           11  \n",
              "10358           15  \n",
              "10359           12  \n",
              "\n",
              "[10360 rows x 3 columns]"
            ]
          },
          "metadata": {
            "tags": []
          },
          "execution_count": 6
        }
      ]
    },
    {
      "cell_type": "code",
      "metadata": {
        "id": "6Fw2STz4IGeM",
        "colab_type": "code",
        "colab": {}
      },
      "source": [
        ""
      ],
      "execution_count": 0,
      "outputs": []
    },
    {
      "cell_type": "code",
      "metadata": {
        "id": "VpjdNjR2eGJA",
        "colab_type": "code",
        "colab": {}
      },
      "source": [
        "dtAux = pd.merge(dt_p,dt_p_classificacao,on='CLPROCED_ID',how='left')"
      ],
      "execution_count": 0,
      "outputs": []
    },
    {
      "cell_type": "code",
      "metadata": {
        "id": "UQu1v3FvdkUH",
        "colab_type": "code",
        "colab": {}
      },
      "source": [
        "dt_despesas_medicas = pd.merge(dt_despesas_medicas,\n",
        "                                 dtAux[['GRPROCED_ID','PROCEDIMENTO_ID','CLPROCED_NOME','PROCEDIMENTO_NOME']],\n",
        "                                 on='PROCEDIMENTO_ID',how='left')"
      ],
      "execution_count": 0,
      "outputs": []
    },
    {
      "cell_type": "code",
      "metadata": {
        "id": "n4IJiJWBHXqW",
        "colab_type": "code",
        "outputId": "01239a6f-6975-453c-9f35-c5970907400c",
        "colab": {
          "base_uri": "https://localhost:8080/",
          "height": 319
        }
      },
      "source": [
        "dt_despesas_medicas.info(verbose=True, null_counts=True)"
      ],
      "execution_count": 9,
      "outputs": [
        {
          "output_type": "stream",
          "text": [
            "<class 'pandas.core.frame.DataFrame'>\n",
            "Int64Index: 1840660 entries, 0 to 1840659\n",
            "Data columns (total 12 columns):\n",
            "CNAE_ID              854412 non-null object\n",
            "PACIENTE_ID          1840660 non-null int64\n",
            "SEXO                 1840660 non-null object\n",
            "ANO_NASCIMENTO       1840660 non-null int64\n",
            "COMPET               1840660 non-null int64\n",
            "CID                  969591 non-null object\n",
            "PROCEDIMENTO_ID      1840660 non-null int64\n",
            "QTD                  1840660 non-null float64\n",
            "VLR_TOTAL            1840660 non-null float64\n",
            "GRPROCED_ID          1840630 non-null float64\n",
            "CLPROCED_NOME        1840630 non-null object\n",
            "PROCEDIMENTO_NOME    1840630 non-null object\n",
            "dtypes: float64(3), int64(4), object(5)\n",
            "memory usage: 182.6+ MB\n"
          ],
          "name": "stdout"
        }
      ]
    },
    {
      "cell_type": "code",
      "metadata": {
        "id": "_3Z7LC-C0rt0",
        "colab_type": "code",
        "outputId": "0524b1be-ba8e-42af-e8c1-f563858a457b",
        "colab": {
          "base_uri": "https://localhost:8080/",
          "height": 194
        }
      },
      "source": [
        "dt_cnaes = pd.read_csv(\"cnaes.csv\")\n",
        "dt_cnaes.head()"
      ],
      "execution_count": 10,
      "outputs": [
        {
          "output_type": "execute_result",
          "data": {
            "text/html": [
              "<div>\n",
              "<style scoped>\n",
              "    .dataframe tbody tr th:only-of-type {\n",
              "        vertical-align: middle;\n",
              "    }\n",
              "\n",
              "    .dataframe tbody tr th {\n",
              "        vertical-align: top;\n",
              "    }\n",
              "\n",
              "    .dataframe thead th {\n",
              "        text-align: right;\n",
              "    }\n",
              "</style>\n",
              "<table border=\"1\" class=\"dataframe\">\n",
              "  <thead>\n",
              "    <tr style=\"text-align: right;\">\n",
              "      <th></th>\n",
              "      <th>CNAE_ID</th>\n",
              "      <th>CNAE_DESCRICAO</th>\n",
              "    </tr>\n",
              "  </thead>\n",
              "  <tbody>\n",
              "    <tr>\n",
              "      <th>0</th>\n",
              "      <td>0111301</td>\n",
              "      <td>Cultivo de arroz</td>\n",
              "    </tr>\n",
              "    <tr>\n",
              "      <th>1</th>\n",
              "      <td>0111302</td>\n",
              "      <td>Cultivo de milho</td>\n",
              "    </tr>\n",
              "    <tr>\n",
              "      <th>2</th>\n",
              "      <td>0111303</td>\n",
              "      <td>Cultivo de trigo</td>\n",
              "    </tr>\n",
              "    <tr>\n",
              "      <th>3</th>\n",
              "      <td>0111399</td>\n",
              "      <td>Cultivo de outros cereais não especificados an...</td>\n",
              "    </tr>\n",
              "    <tr>\n",
              "      <th>4</th>\n",
              "      <td>0112101</td>\n",
              "      <td>Cultivo de algodão herbáceo</td>\n",
              "    </tr>\n",
              "  </tbody>\n",
              "</table>\n",
              "</div>"
            ],
            "text/plain": [
              "   CNAE_ID                                     CNAE_DESCRICAO\n",
              "0  0111301                                   Cultivo de arroz\n",
              "1  0111302                                   Cultivo de milho\n",
              "2  0111303                                   Cultivo de trigo\n",
              "3  0111399  Cultivo de outros cereais não especificados an...\n",
              "4  0112101                        Cultivo de algodão herbáceo"
            ]
          },
          "metadata": {
            "tags": []
          },
          "execution_count": 10
        }
      ]
    },
    {
      "cell_type": "code",
      "metadata": {
        "id": "MHKc2qIMLnNW",
        "colab_type": "code",
        "colab": {}
      },
      "source": [
        ""
      ],
      "execution_count": 0,
      "outputs": []
    },
    {
      "cell_type": "markdown",
      "metadata": {
        "id": "M-93KqyF45nA",
        "colab_type": "text"
      },
      "source": [
        "# PREPARAÇÃO DOS DADOS"
      ]
    },
    {
      "cell_type": "markdown",
      "metadata": {
        "id": "XSdvsudi4nWg",
        "colab_type": "text"
      },
      "source": [
        "## IDADE"
      ]
    },
    {
      "cell_type": "code",
      "metadata": {
        "id": "Kc6sgN2O5PLK",
        "colab_type": "code",
        "colab": {}
      },
      "source": [
        "# Criação de variáveis relacionadas ao momento que ocorreu a consulta\n",
        "dt_despesas_medicas['DATA_REF_EVENTO'] = pd.to_datetime(dt_despesas_medicas['COMPET'] , format='%m%Y')\n",
        "dt_despesas_medicas['ANO_REF_EVENTO'] = pd.to_datetime(dt_despesas_medicas['DATA_REF_EVENTO']).apply(lambda x: x.strftime('%Y'))\n",
        "dt_despesas_medicas['ANO_REF_EVENTO_NUM'] = pd.to_numeric(dt_despesas_medicas['ANO_REF_EVENTO'])"
      ],
      "execution_count": 0,
      "outputs": []
    },
    {
      "cell_type": "code",
      "metadata": {
        "id": "9FalUNK-4c4n",
        "colab_type": "code",
        "colab": {}
      },
      "source": [
        "# Deleta dados de pessoas que o sistema diz que foram atendidas antes de 2015, pois foi erro\n",
        "dt_despesas_medicas = dt_despesas_medicas[dt_despesas_medicas['ANO_REF_EVENTO_NUM'] > 2015]"
      ],
      "execution_count": 0,
      "outputs": []
    },
    {
      "cell_type": "code",
      "metadata": {
        "id": "SJkE0jlA4c66",
        "colab_type": "code",
        "colab": {}
      },
      "source": [
        "# Cálculo da idade\n",
        "dt_despesas_medicas['IDADE'] = dt_despesas_medicas['ANO_REF_EVENTO_NUM']-dt_despesas_medicas['ANO_NASCIMENTO']"
      ],
      "execution_count": 0,
      "outputs": []
    },
    {
      "cell_type": "code",
      "metadata": {
        "id": "WM56Kg3I4qZC",
        "colab_type": "code",
        "colab": {}
      },
      "source": [
        ""
      ],
      "execution_count": 0,
      "outputs": []
    },
    {
      "cell_type": "code",
      "metadata": {
        "id": "CrqtFdda4qbW",
        "colab_type": "code",
        "outputId": "37ebd8f0-2860-4cb3-f722-ed82c1dcf1db",
        "colab": {
          "base_uri": "https://localhost:8080/",
          "height": 340
        }
      },
      "source": [
        "# Categorização das idades segundo os planos de saúde\n",
        "dt_despesas_medicas['FaixaEtaria'] = 0\n",
        "dt_despesas_medicas['CodFaixaEtaria'] = 0\n",
        "dt_despesas_medicas.loc[dt_despesas_medicas['IDADE'] <= 18, ['FaixaEtaria','CodFaixaEtaria']] = \"0-18\",1\n",
        "dt_despesas_medicas.loc[(dt_despesas_medicas['IDADE'] >= 19) & (dt_despesas_medicas['IDADE'] < 24), ['FaixaEtaria','CodFaixaEtaria']] = \"19-23\",2\n",
        "dt_despesas_medicas.loc[(dt_despesas_medicas['IDADE'] >= 24) & (dt_despesas_medicas['IDADE'] < 29), ['FaixaEtaria','CodFaixaEtaria']] = \"24-28\",3\n",
        "dt_despesas_medicas.loc[(dt_despesas_medicas['IDADE'] >= 29) & (dt_despesas_medicas['IDADE'] < 34), ['FaixaEtaria','CodFaixaEtaria']] = \"29-33\",4\n",
        "dt_despesas_medicas.loc[(dt_despesas_medicas['IDADE'] >= 34) & (dt_despesas_medicas['IDADE'] < 39), ['FaixaEtaria','CodFaixaEtaria']] = \"34-38\",5\n",
        "dt_despesas_medicas.loc[(dt_despesas_medicas['IDADE'] >= 39) & (dt_despesas_medicas['IDADE'] < 44), ['FaixaEtaria','CodFaixaEtaria']] = \"39-43\",6\n",
        "dt_despesas_medicas.loc[(dt_despesas_medicas['IDADE'] >= 44) & (dt_despesas_medicas['IDADE'] < 49), ['FaixaEtaria','CodFaixaEtaria']] = \"44-48\",7\n",
        "dt_despesas_medicas.loc[(dt_despesas_medicas['IDADE'] >= 49) & (dt_despesas_medicas['IDADE'] < 54), ['FaixaEtaria','CodFaixaEtaria']] = \"49-53\",8\n",
        "dt_despesas_medicas.loc[(dt_despesas_medicas['IDADE'] >= 54) & (dt_despesas_medicas['IDADE'] < 59), ['FaixaEtaria','CodFaixaEtaria']] = \"54-58\",9\n",
        "dt_despesas_medicas.loc[(dt_despesas_medicas['IDADE'] >= 59), ['FaixaEtaria','CodFaixaEtaria']] = \"59 ou mais\",10\n",
        "\n",
        "dt_despesas_medicas.groupby(['CodFaixaEtaria'],  as_index=False).mean()"
      ],
      "execution_count": 15,
      "outputs": [
        {
          "output_type": "execute_result",
          "data": {
            "text/html": [
              "<div>\n",
              "<style scoped>\n",
              "    .dataframe tbody tr th:only-of-type {\n",
              "        vertical-align: middle;\n",
              "    }\n",
              "\n",
              "    .dataframe tbody tr th {\n",
              "        vertical-align: top;\n",
              "    }\n",
              "\n",
              "    .dataframe thead th {\n",
              "        text-align: right;\n",
              "    }\n",
              "</style>\n",
              "<table border=\"1\" class=\"dataframe\">\n",
              "  <thead>\n",
              "    <tr style=\"text-align: right;\">\n",
              "      <th></th>\n",
              "      <th>CodFaixaEtaria</th>\n",
              "      <th>PACIENTE_ID</th>\n",
              "      <th>ANO_NASCIMENTO</th>\n",
              "      <th>COMPET</th>\n",
              "      <th>PROCEDIMENTO_ID</th>\n",
              "      <th>QTD</th>\n",
              "      <th>VLR_TOTAL</th>\n",
              "      <th>GRPROCED_ID</th>\n",
              "      <th>ANO_REF_EVENTO_NUM</th>\n",
              "      <th>IDADE</th>\n",
              "    </tr>\n",
              "  </thead>\n",
              "  <tbody>\n",
              "    <tr>\n",
              "      <th>0</th>\n",
              "      <td>1</td>\n",
              "      <td>1.956558e+09</td>\n",
              "      <td>2008.911581</td>\n",
              "      <td>74112.973227</td>\n",
              "      <td>4.126846e+07</td>\n",
              "      <td>32.802869</td>\n",
              "      <td>130.908949</td>\n",
              "      <td>2.789718</td>\n",
              "      <td>2017.252204</td>\n",
              "      <td>8.340623</td>\n",
              "    </tr>\n",
              "    <tr>\n",
              "      <th>1</th>\n",
              "      <td>2</td>\n",
              "      <td>2.066408e+09</td>\n",
              "      <td>1995.905734</td>\n",
              "      <td>74150.475021</td>\n",
              "      <td>4.036920e+07</td>\n",
              "      <td>41.440423</td>\n",
              "      <td>116.654841</td>\n",
              "      <td>2.620043</td>\n",
              "      <td>2017.190309</td>\n",
              "      <td>21.284575</td>\n",
              "    </tr>\n",
              "    <tr>\n",
              "      <th>2</th>\n",
              "      <td>3</td>\n",
              "      <td>2.202473e+09</td>\n",
              "      <td>1991.502539</td>\n",
              "      <td>69121.532447</td>\n",
              "      <td>4.205237e+07</td>\n",
              "      <td>42.023240</td>\n",
              "      <td>120.381582</td>\n",
              "      <td>2.562237</td>\n",
              "      <td>2017.313856</td>\n",
              "      <td>25.811317</td>\n",
              "    </tr>\n",
              "    <tr>\n",
              "      <th>3</th>\n",
              "      <td>4</td>\n",
              "      <td>2.171364e+09</td>\n",
              "      <td>1985.881528</td>\n",
              "      <td>70834.856298</td>\n",
              "      <td>4.145778e+07</td>\n",
              "      <td>17.796458</td>\n",
              "      <td>135.995776</td>\n",
              "      <td>2.478489</td>\n",
              "      <td>2017.279235</td>\n",
              "      <td>31.397707</td>\n",
              "    </tr>\n",
              "    <tr>\n",
              "      <th>4</th>\n",
              "      <td>5</td>\n",
              "      <td>2.046555e+09</td>\n",
              "      <td>1981.367872</td>\n",
              "      <td>71342.250471</td>\n",
              "      <td>4.094520e+07</td>\n",
              "      <td>22.646596</td>\n",
              "      <td>148.946003</td>\n",
              "      <td>2.466905</td>\n",
              "      <td>2017.395908</td>\n",
              "      <td>36.028036</td>\n",
              "    </tr>\n",
              "    <tr>\n",
              "      <th>5</th>\n",
              "      <td>6</td>\n",
              "      <td>2.185597e+09</td>\n",
              "      <td>1976.546113</td>\n",
              "      <td>69910.379749</td>\n",
              "      <td>4.339819e+07</td>\n",
              "      <td>8.717729</td>\n",
              "      <td>155.266546</td>\n",
              "      <td>2.537972</td>\n",
              "      <td>2017.402470</td>\n",
              "      <td>40.856357</td>\n",
              "    </tr>\n",
              "    <tr>\n",
              "      <th>6</th>\n",
              "      <td>7</td>\n",
              "      <td>2.152091e+09</td>\n",
              "      <td>1971.291147</td>\n",
              "      <td>71938.107183</td>\n",
              "      <td>4.281822e+07</td>\n",
              "      <td>12.850378</td>\n",
              "      <td>144.322333</td>\n",
              "      <td>2.591889</td>\n",
              "      <td>2017.253005</td>\n",
              "      <td>45.961858</td>\n",
              "    </tr>\n",
              "    <tr>\n",
              "      <th>7</th>\n",
              "      <td>8</td>\n",
              "      <td>2.195502e+09</td>\n",
              "      <td>1966.046826</td>\n",
              "      <td>70544.992980</td>\n",
              "      <td>4.218261e+07</td>\n",
              "      <td>19.030147</td>\n",
              "      <td>138.108439</td>\n",
              "      <td>2.585654</td>\n",
              "      <td>2017.216256</td>\n",
              "      <td>51.169430</td>\n",
              "    </tr>\n",
              "    <tr>\n",
              "      <th>8</th>\n",
              "      <td>9</td>\n",
              "      <td>2.196663e+09</td>\n",
              "      <td>1961.163717</td>\n",
              "      <td>71747.371527</td>\n",
              "      <td>4.704131e+07</td>\n",
              "      <td>10.859145</td>\n",
              "      <td>151.739507</td>\n",
              "      <td>2.605834</td>\n",
              "      <td>2017.221278</td>\n",
              "      <td>56.057561</td>\n",
              "    </tr>\n",
              "    <tr>\n",
              "      <th>9</th>\n",
              "      <td>10</td>\n",
              "      <td>2.092177e+09</td>\n",
              "      <td>1941.287613</td>\n",
              "      <td>70618.081980</td>\n",
              "      <td>4.397301e+07</td>\n",
              "      <td>19.123799</td>\n",
              "      <td>128.256641</td>\n",
              "      <td>2.692482</td>\n",
              "      <td>2017.287925</td>\n",
              "      <td>76.000312</td>\n",
              "    </tr>\n",
              "  </tbody>\n",
              "</table>\n",
              "</div>"
            ],
            "text/plain": [
              "   CodFaixaEtaria   PACIENTE_ID  ANO_NASCIMENTO        COMPET  \\\n",
              "0               1  1.956558e+09     2008.911581  74112.973227   \n",
              "1               2  2.066408e+09     1995.905734  74150.475021   \n",
              "2               3  2.202473e+09     1991.502539  69121.532447   \n",
              "3               4  2.171364e+09     1985.881528  70834.856298   \n",
              "4               5  2.046555e+09     1981.367872  71342.250471   \n",
              "5               6  2.185597e+09     1976.546113  69910.379749   \n",
              "6               7  2.152091e+09     1971.291147  71938.107183   \n",
              "7               8  2.195502e+09     1966.046826  70544.992980   \n",
              "8               9  2.196663e+09     1961.163717  71747.371527   \n",
              "9              10  2.092177e+09     1941.287613  70618.081980   \n",
              "\n",
              "   PROCEDIMENTO_ID        QTD   VLR_TOTAL  GRPROCED_ID  ANO_REF_EVENTO_NUM  \\\n",
              "0     4.126846e+07  32.802869  130.908949     2.789718         2017.252204   \n",
              "1     4.036920e+07  41.440423  116.654841     2.620043         2017.190309   \n",
              "2     4.205237e+07  42.023240  120.381582     2.562237         2017.313856   \n",
              "3     4.145778e+07  17.796458  135.995776     2.478489         2017.279235   \n",
              "4     4.094520e+07  22.646596  148.946003     2.466905         2017.395908   \n",
              "5     4.339819e+07   8.717729  155.266546     2.537972         2017.402470   \n",
              "6     4.281822e+07  12.850378  144.322333     2.591889         2017.253005   \n",
              "7     4.218261e+07  19.030147  138.108439     2.585654         2017.216256   \n",
              "8     4.704131e+07  10.859145  151.739507     2.605834         2017.221278   \n",
              "9     4.397301e+07  19.123799  128.256641     2.692482         2017.287925   \n",
              "\n",
              "       IDADE  \n",
              "0   8.340623  \n",
              "1  21.284575  \n",
              "2  25.811317  \n",
              "3  31.397707  \n",
              "4  36.028036  \n",
              "5  40.856357  \n",
              "6  45.961858  \n",
              "7  51.169430  \n",
              "8  56.057561  \n",
              "9  76.000312  "
            ]
          },
          "metadata": {
            "tags": []
          },
          "execution_count": 15
        }
      ]
    },
    {
      "cell_type": "code",
      "metadata": {
        "id": "M2jMytP94wJM",
        "colab_type": "code",
        "colab": {}
      },
      "source": [
        ""
      ],
      "execution_count": 0,
      "outputs": []
    },
    {
      "cell_type": "markdown",
      "metadata": {
        "id": "Y3EMg7wC4xOk",
        "colab_type": "text"
      },
      "source": [
        "## SEXO"
      ]
    },
    {
      "cell_type": "code",
      "metadata": {
        "id": "NYsPDrZp4wLs",
        "colab_type": "code",
        "colab": {}
      },
      "source": [
        "# SEXO (M:1, F:2)\n",
        "dt_despesas_medicas['SEXO_CAT'] = 0\n",
        "dt_despesas_medicas.loc[dt_despesas_medicas['SEXO'] == 'M', 'SEXO_CAT'] = 1\n",
        "dt_despesas_medicas.loc[dt_despesas_medicas['SEXO'] == 'F', 'SEXO_CAT'] = 2"
      ],
      "execution_count": 0,
      "outputs": []
    },
    {
      "cell_type": "code",
      "metadata": {
        "id": "N_cfYOHk4wRy",
        "colab_type": "code",
        "colab": {}
      },
      "source": [
        ""
      ],
      "execution_count": 0,
      "outputs": []
    },
    {
      "cell_type": "markdown",
      "metadata": {
        "id": "Xde436Ft8h3C",
        "colab_type": "text"
      },
      "source": [
        "## DF DE CADA PACIENTE"
      ]
    },
    {
      "cell_type": "code",
      "metadata": {
        "id": "JgzIJQXH8iZs",
        "colab_type": "code",
        "colab": {}
      },
      "source": [
        "# Criando data frame com os pacientes em cada linha\n",
        "dfPaciente = dt_despesas_medicas.groupby(['PACIENTE_ID'], as_index=False).mean()[['PACIENTE_ID','SEXO_CAT',\n",
        "                                                                                  'IDADE','CodFaixaEtaria']]"
      ],
      "execution_count": 0,
      "outputs": []
    },
    {
      "cell_type": "code",
      "metadata": {
        "id": "pth4AtFq54s8",
        "colab_type": "code",
        "outputId": "64ede123-2d68-44e2-a754-8cb38073057d",
        "colab": {
          "base_uri": "https://localhost:8080/",
          "height": 399
        }
      },
      "source": [
        "dfPaciente"
      ],
      "execution_count": 18,
      "outputs": [
        {
          "output_type": "execute_result",
          "data": {
            "text/html": [
              "<div>\n",
              "<style scoped>\n",
              "    .dataframe tbody tr th:only-of-type {\n",
              "        vertical-align: middle;\n",
              "    }\n",
              "\n",
              "    .dataframe tbody tr th {\n",
              "        vertical-align: top;\n",
              "    }\n",
              "\n",
              "    .dataframe thead th {\n",
              "        text-align: right;\n",
              "    }\n",
              "</style>\n",
              "<table border=\"1\" class=\"dataframe\">\n",
              "  <thead>\n",
              "    <tr style=\"text-align: right;\">\n",
              "      <th></th>\n",
              "      <th>PACIENTE_ID</th>\n",
              "      <th>SEXO_CAT</th>\n",
              "      <th>IDADE</th>\n",
              "      <th>CodFaixaEtaria</th>\n",
              "    </tr>\n",
              "  </thead>\n",
              "  <tbody>\n",
              "    <tr>\n",
              "      <th>0</th>\n",
              "      <td>740255</td>\n",
              "      <td>2.0</td>\n",
              "      <td>65.692140</td>\n",
              "      <td>10.0</td>\n",
              "    </tr>\n",
              "    <tr>\n",
              "      <th>1</th>\n",
              "      <td>1462618</td>\n",
              "      <td>2.0</td>\n",
              "      <td>80.165049</td>\n",
              "      <td>10.0</td>\n",
              "    </tr>\n",
              "    <tr>\n",
              "      <th>2</th>\n",
              "      <td>2531830</td>\n",
              "      <td>1.0</td>\n",
              "      <td>77.869591</td>\n",
              "      <td>10.0</td>\n",
              "    </tr>\n",
              "    <tr>\n",
              "      <th>3</th>\n",
              "      <td>4263234</td>\n",
              "      <td>2.0</td>\n",
              "      <td>83.811940</td>\n",
              "      <td>10.0</td>\n",
              "    </tr>\n",
              "    <tr>\n",
              "      <th>4</th>\n",
              "      <td>4293611</td>\n",
              "      <td>2.0</td>\n",
              "      <td>20.273381</td>\n",
              "      <td>2.0</td>\n",
              "    </tr>\n",
              "    <tr>\n",
              "      <th>...</th>\n",
              "      <td>...</td>\n",
              "      <td>...</td>\n",
              "      <td>...</td>\n",
              "      <td>...</td>\n",
              "    </tr>\n",
              "    <tr>\n",
              "      <th>4973</th>\n",
              "      <td>4288966713</td>\n",
              "      <td>1.0</td>\n",
              "      <td>69.812500</td>\n",
              "      <td>10.0</td>\n",
              "    </tr>\n",
              "    <tr>\n",
              "      <th>4974</th>\n",
              "      <td>4289938973</td>\n",
              "      <td>1.0</td>\n",
              "      <td>57.362069</td>\n",
              "      <td>9.0</td>\n",
              "    </tr>\n",
              "    <tr>\n",
              "      <th>4975</th>\n",
              "      <td>4291324891</td>\n",
              "      <td>1.0</td>\n",
              "      <td>65.106383</td>\n",
              "      <td>10.0</td>\n",
              "    </tr>\n",
              "    <tr>\n",
              "      <th>4976</th>\n",
              "      <td>4293790153</td>\n",
              "      <td>1.0</td>\n",
              "      <td>52.441463</td>\n",
              "      <td>8.0</td>\n",
              "    </tr>\n",
              "    <tr>\n",
              "      <th>4977</th>\n",
              "      <td>4294101848</td>\n",
              "      <td>2.0</td>\n",
              "      <td>93.463277</td>\n",
              "      <td>10.0</td>\n",
              "    </tr>\n",
              "  </tbody>\n",
              "</table>\n",
              "<p>4978 rows × 4 columns</p>\n",
              "</div>"
            ],
            "text/plain": [
              "      PACIENTE_ID  SEXO_CAT      IDADE  CodFaixaEtaria\n",
              "0          740255       2.0  65.692140            10.0\n",
              "1         1462618       2.0  80.165049            10.0\n",
              "2         2531830       1.0  77.869591            10.0\n",
              "3         4263234       2.0  83.811940            10.0\n",
              "4         4293611       2.0  20.273381             2.0\n",
              "...           ...       ...        ...             ...\n",
              "4973   4288966713       1.0  69.812500            10.0\n",
              "4974   4289938973       1.0  57.362069             9.0\n",
              "4975   4291324891       1.0  65.106383            10.0\n",
              "4976   4293790153       1.0  52.441463             8.0\n",
              "4977   4294101848       2.0  93.463277            10.0\n",
              "\n",
              "[4978 rows x 4 columns]"
            ]
          },
          "metadata": {
            "tags": []
          },
          "execution_count": 18
        }
      ]
    },
    {
      "cell_type": "code",
      "metadata": {
        "id": "0KKAZ11MJ9mp",
        "colab_type": "code",
        "colab": {}
      },
      "source": [
        ""
      ],
      "execution_count": 0,
      "outputs": []
    },
    {
      "cell_type": "code",
      "metadata": {
        "id": "P21WE5HsJ9wD",
        "colab_type": "code",
        "colab": {}
      },
      "source": [
        "# Adiciona CNAE ao dfPaciente\n",
        "dfPaciente = pd.merge(dfPaciente,dt_despesas_medicas.drop_duplicates(subset='PACIENTE_ID', keep=\"first\")[['PACIENTE_ID','CNAE_ID']]\n",
        "                      ,on='PACIENTE_ID',how='inner')"
      ],
      "execution_count": 0,
      "outputs": []
    },
    {
      "cell_type": "code",
      "metadata": {
        "id": "z10bHilfMWH1",
        "colab_type": "code",
        "colab": {}
      },
      "source": [
        ""
      ],
      "execution_count": 0,
      "outputs": []
    },
    {
      "cell_type": "code",
      "metadata": {
        "id": "f7kP25rZLzXg",
        "colab_type": "code",
        "colab": {}
      },
      "source": [
        "# Adiciona descrição do CNAE ao dfPaciente\n",
        "dfPaciente = pd.merge(dfPaciente,dt_cnaes.drop_duplicates(subset='CNAE_ID', keep=\"first\"),on='CNAE_ID',how='left')"
      ],
      "execution_count": 0,
      "outputs": []
    },
    {
      "cell_type": "markdown",
      "metadata": {
        "id": "xnwEwti9t2DK",
        "colab_type": "text"
      },
      "source": [
        "Existem dados com número do cnae, mas sem descrição"
      ]
    },
    {
      "cell_type": "code",
      "metadata": {
        "id": "reJ8X38WLwEs",
        "colab_type": "code",
        "colab": {}
      },
      "source": [
        "# Código da faixa etária aproxima para cima (ao calcular a média da faixa no período, pessoas foram para a faixa de cima)\n",
        "dfPaciente['CodFaixaEtaria'] = np.ceil(dfPaciente['CodFaixaEtaria'])"
      ],
      "execution_count": 0,
      "outputs": []
    },
    {
      "cell_type": "code",
      "metadata": {
        "id": "_53Nb9QGJ8N8",
        "colab_type": "code",
        "colab": {}
      },
      "source": [
        ""
      ],
      "execution_count": 0,
      "outputs": []
    },
    {
      "cell_type": "markdown",
      "metadata": {
        "id": "ZaFFXcxe549L",
        "colab_type": "text"
      },
      "source": [
        "## ESTATÍSTICA"
      ]
    },
    {
      "cell_type": "code",
      "metadata": {
        "id": "bC82uk9755VA",
        "colab_type": "code",
        "colab": {
          "base_uri": "https://localhost:8080/",
          "height": 88
        },
        "outputId": "e9c2e15e-1c83-46ff-be0b-805c46df9cbb"
      },
      "source": [
        "# Criação de variáveis estatísticas relacionadas aos valores dos procedimentos, valor total,\n",
        "# grau dos procedimentos e consultas que podemos melhorar\n",
        "dfPaciente['COUNT_MESES'] = 0\n",
        "dfPaciente['COUNT_PROC'] = 0\n",
        "dfPaciente['VLR_SUM'] = 0\n",
        "dfPaciente['VLR_MEAN'] = 0\n",
        "dfPaciente['VLR_MEDIAN'] = 0\n",
        "dfPaciente['VLR_MIN'] = 0\n",
        "dfPaciente['VLR_MAX'] = 0\n",
        "dfPaciente['VLR_STD'] = 0\n",
        "dfPaciente['VLR_SKEW'] = 0\n",
        "dfPaciente['VLR_KURT'] = 0\n",
        "\n",
        "dfPaciente['PRD_SEM'] = 0\n",
        "dfPaciente['PRD_CONS'] = 0\n",
        "dfPaciente['PRD_EXM'] = 0\n",
        "dfPaciente['PRD_OUT'] = 0\n",
        "dfPaciente['PRD_TER'] = 0\n",
        "dfPaciente['PRD_INT'] = 0\n",
        "\n",
        "dfPaciente['PRDVL_SEM'] = 0\n",
        "dfPaciente['PRDVL_CONS'] = 0\n",
        "dfPaciente['PRDVL_EXM'] = 0\n",
        "dfPaciente['PRDVL_OUT'] = 0\n",
        "dfPaciente['PRDVL_TER'] = 0\n",
        "dfPaciente['PRDVL_INT'] = 0\n",
        "\n",
        "dfPaciente['COUNT_FOCO'] = 0\n",
        "dfPaciente['VLR_FOCO'] = 0\n",
        "dfPaciente['VLR_FOCOpTOT'] = 0\n",
        "\n",
        "dfPaciente['GRP_SUM'] = 0\n",
        "dfPaciente['GRP_SKEW'] = 0\n",
        "dfPaciente['GRP_MEAN'] = 0\n",
        "dfPaciente['GRP_SKEW1'] = 0\n",
        "dfPaciente['GRP_MEAN1'] = 0\n",
        "dfPaciente['GRP_SKEW2'] = 0\n",
        "dfPaciente['GRP_MEAN2'] = 0\n",
        "\n",
        "ProcedIDFoco = [10101012,10101039] # Consultas que vamos afetar\n",
        "\n",
        "\n",
        "for i in dt_despesas_medicas['PACIENTE_ID'].unique():\n",
        "  dfAux = dt_despesas_medicas[dt_despesas_medicas['PACIENTE_ID'] == i]\n",
        "  dfPaciente.loc[dfPaciente['PACIENTE_ID'] == i, ['COUNT_MESES']] = len(dfAux['COMPET'].unique())\n",
        "  dfPaciente.loc[dfPaciente['PACIENTE_ID'] == i, ['COUNT_PROC']] = dfAux['VLR_TOTAL'].count()\n",
        "  dfPaciente.loc[dfPaciente['PACIENTE_ID'] == i, ['VLR_SUM']] = dfAux['VLR_TOTAL'].sum()\n",
        "  dfPaciente.loc[dfPaciente['PACIENTE_ID'] == i, ['VLR_MEAN']] = dfAux['VLR_TOTAL'].mean()\n",
        "  dfPaciente.loc[dfPaciente['PACIENTE_ID'] == i, ['VLR_MEDIAN']] = dfAux['VLR_TOTAL'].median()\n",
        "  dfPaciente.loc[dfPaciente['PACIENTE_ID'] == i, ['VLR_MIN']] = dfAux['VLR_TOTAL'].min()\n",
        "  dfPaciente.loc[dfPaciente['PACIENTE_ID'] == i, ['VLR_MAX']] = dfAux['VLR_TOTAL'].max()\n",
        "  dfPaciente.loc[dfPaciente['PACIENTE_ID'] == i, ['VLR_STD']] = dfAux['VLR_TOTAL'].std()\n",
        "  dfPaciente.loc[dfPaciente['PACIENTE_ID'] == i, ['VLR_SKEW']] = dfAux['VLR_TOTAL'].skew()\n",
        "  dfPaciente.loc[dfPaciente['PACIENTE_ID'] == i, ['VLR_KURT']] = dfAux['VLR_TOTAL'].kurt()\n",
        "\n",
        "  \n",
        "  dfPaciente.loc[dfPaciente['PACIENTE_ID'] == i, ['PRD_SEM']] = np.sum(dfAux['GRPROCED_ID']==0)\n",
        "  dfPaciente.loc[dfPaciente['PACIENTE_ID'] == i, ['PRD_CONS']] = np.sum(dfAux['GRPROCED_ID']==1)\n",
        "  dfPaciente.loc[dfPaciente['PACIENTE_ID'] == i, ['PRD_EXM']] = np.sum(dfAux['GRPROCED_ID']==2)\n",
        "  dfPaciente.loc[dfPaciente['PACIENTE_ID'] == i, ['PRD_OUT']] = np.sum(dfAux['GRPROCED_ID']==3)\n",
        "  dfPaciente.loc[dfPaciente['PACIENTE_ID'] == i, ['PRD_TER']] = np.sum(dfAux['GRPROCED_ID']==4)\n",
        "  dfPaciente.loc[dfPaciente['PACIENTE_ID'] == i, ['PRD_INT']] = np.sum(dfAux['GRPROCED_ID']==5)\n",
        "\n",
        "  dfPaciente.loc[dfPaciente['PACIENTE_ID'] == i, ['PRDVL_SEM']] = dfAux[dfAux['GRPROCED_ID']==0]['VLR_TOTAL'].sum()\n",
        "  dfPaciente.loc[dfPaciente['PACIENTE_ID'] == i, ['PRDVL_CONS']] = dfAux[dfAux['GRPROCED_ID']==1]['VLR_TOTAL'].sum()\n",
        "  dfPaciente.loc[dfPaciente['PACIENTE_ID'] == i, ['PRDVL_EXM']] = dfAux[dfAux['GRPROCED_ID']==2]['VLR_TOTAL'].sum()\n",
        "  dfPaciente.loc[dfPaciente['PACIENTE_ID'] == i, ['PRDVL_OUT']] = dfAux[dfAux['GRPROCED_ID']==3]['VLR_TOTAL'].sum()\n",
        "  dfPaciente.loc[dfPaciente['PACIENTE_ID'] == i, ['PRDVL_TER']] = dfAux[dfAux['GRPROCED_ID']==4]['VLR_TOTAL'].sum()\n",
        "  dfPaciente.loc[dfPaciente['PACIENTE_ID'] == i, ['PRDVL_INT']] = dfAux[dfAux['GRPROCED_ID']==5]['VLR_TOTAL'].sum()\n",
        "\n",
        "  dfPaciente.loc[dfPaciente['PACIENTE_ID'] == i, ['COUNT_FOCO']] = np.sum(dfAux['PROCEDIMENTO_ID'].isin(ProcedIDFoco))\n",
        "  dfPaciente.loc[dfPaciente['PACIENTE_ID'] == i, ['VLR_FOCO']] = dfAux[dfAux['PROCEDIMENTO_ID'].isin(ProcedIDFoco)]['VLR_TOTAL'].sum()\n",
        "  dfPaciente.loc[dfPaciente['PACIENTE_ID'] == i, ['VLR_FOCOpTOT']] = dfAux[dfAux['PROCEDIMENTO_ID'].isin(ProcedIDFoco)]['VLR_TOTAL'].sum()/dfAux['VLR_TOTAL'].sum()*100\n",
        "\n",
        "  dfPaciente.loc[dfPaciente['PACIENTE_ID'] == i, ['GRP_SUM']] = dfAux.sort_values(['DATA_REF_EVENTO','GRPROCED_ID'])['GRPROCED_ID'].sum()\n",
        "  dfPaciente.loc[dfPaciente['PACIENTE_ID'] == i, ['GRP_SKEW']] = dfAux.sort_values(['DATA_REF_EVENTO','GRPROCED_ID'])['GRPROCED_ID'].skew()\n",
        "  dfPaciente.loc[dfPaciente['PACIENTE_ID'] == i, ['GRP_MEAN']] = dfAux.sort_values(['DATA_REF_EVENTO','GRPROCED_ID'])['GRPROCED_ID'].mean()\n",
        "  dfPaciente.loc[dfPaciente['PACIENTE_ID'] == i, ['GRP_SKEW2']] = dfAux.sort_values(['DATA_REF_EVENTO','GRPROCED_ID'])[dfAux['ANO_REF_EVENTO_NUM']>=2018]['GRPROCED_ID'].skew()\n",
        "  dfPaciente.loc[dfPaciente['PACIENTE_ID'] == i, ['GRP_SKEW1']] = dfAux.sort_values(['DATA_REF_EVENTO','GRPROCED_ID'])[dfAux['ANO_REF_EVENTO_NUM']<2018]['GRPROCED_ID'].skew()\n",
        "  dfPaciente.loc[dfPaciente['PACIENTE_ID'] == i, ['GRP_MEAN2']] = dfAux.sort_values(['DATA_REF_EVENTO','GRPROCED_ID'])[dfAux['ANO_REF_EVENTO_NUM']>=2018]['GRPROCED_ID'].mean()\n",
        "  dfPaciente.loc[dfPaciente['PACIENTE_ID'] == i, ['GRP_MEAN1']] = dfAux.sort_values(['DATA_REF_EVENTO','GRPROCED_ID'])[dfAux['ANO_REF_EVENTO_NUM']<2018]['GRPROCED_ID'].mean()\n"
      ],
      "execution_count": 24,
      "outputs": [
        {
          "output_type": "stream",
          "text": [
            "/usr/local/lib/python3.6/dist-packages/ipykernel_launcher.py:76: UserWarning: Boolean Series key will be reindexed to match DataFrame index.\n",
            "/usr/local/lib/python3.6/dist-packages/ipykernel_launcher.py:77: UserWarning: Boolean Series key will be reindexed to match DataFrame index.\n",
            "/usr/local/lib/python3.6/dist-packages/ipykernel_launcher.py:78: UserWarning: Boolean Series key will be reindexed to match DataFrame index.\n",
            "/usr/local/lib/python3.6/dist-packages/ipykernel_launcher.py:79: UserWarning: Boolean Series key will be reindexed to match DataFrame index.\n"
          ],
          "name": "stderr"
        }
      ]
    },
    {
      "cell_type": "code",
      "metadata": {
        "id": "7L3e8fh0i0A6",
        "colab_type": "code",
        "colab": {}
      },
      "source": [
        ""
      ],
      "execution_count": 0,
      "outputs": []
    },
    {
      "cell_type": "code",
      "metadata": {
        "id": "deLlEOJisC4z",
        "colab_type": "code",
        "colab": {}
      },
      "source": [
        "# Modificação da média e do skewness comparando antes e depois de 2018\n",
        "dfPaciente['GRP_MEANd'] = dfPaciente['GRP_MEAN2']-dfPaciente['GRP_MEAN1']\n",
        "dfPaciente['GRP_SKEWd'] = dfPaciente['GRP_SKEW2']-dfPaciente['GRP_SKEW1']"
      ],
      "execution_count": 0,
      "outputs": []
    },
    {
      "cell_type": "code",
      "metadata": {
        "id": "5V9aXUZvsC17",
        "colab_type": "code",
        "colab": {}
      },
      "source": [
        "# Quantidade de consultas que focamos, dividida pela quantidade total de procedimentos por pessoa\n",
        "dfPaciente['COUNT_FOCOpTot'] = dfPaciente['COUNT_FOCO'] / dfPaciente['COUNT_PROC'] * 100"
      ],
      "execution_count": 0,
      "outputs": []
    },
    {
      "cell_type": "code",
      "metadata": {
        "id": "c2xOVSd18T-Z",
        "colab_type": "code",
        "outputId": "d8cb9ae3-d4ff-4f72-efd8-6e70b0625a43",
        "colab": {
          "base_uri": "https://localhost:8080/",
          "height": 835
        }
      },
      "source": [
        "dfPaciente.info()"
      ],
      "execution_count": 74,
      "outputs": [
        {
          "output_type": "stream",
          "text": [
            "<class 'pandas.core.frame.DataFrame'>\n",
            "Int64Index: 4978 entries, 0 to 4977\n",
            "Data columns (total 41 columns):\n",
            "PACIENTE_ID       4978 non-null int64\n",
            "SEXO_CAT          4978 non-null float64\n",
            "IDADE             4978 non-null float64\n",
            "CodFaixaEtaria    4978 non-null float64\n",
            "CNAE_ID           2862 non-null object\n",
            "CNAE_DESCRICAO    1788 non-null object\n",
            "COUNT_MESES       4978 non-null int64\n",
            "COUNT_PROC        4978 non-null int64\n",
            "VLR_SUM           4978 non-null float64\n",
            "VLR_MEAN          4978 non-null float64\n",
            "VLR_MEDIAN        4978 non-null float64\n",
            "VLR_MIN           4978 non-null float64\n",
            "VLR_MAX           4978 non-null float64\n",
            "VLR_STD           4978 non-null float64\n",
            "VLR_SKEW          4978 non-null float64\n",
            "VLR_KURT          4978 non-null float64\n",
            "PRD_SEM           4978 non-null int64\n",
            "PRD_CONS          4978 non-null int64\n",
            "PRD_EXM           4978 non-null int64\n",
            "PRD_OUT           4978 non-null int64\n",
            "PRD_TER           4978 non-null int64\n",
            "PRD_INT           4978 non-null int64\n",
            "PRDVL_SEM         4978 non-null float64\n",
            "PRDVL_CONS        4978 non-null float64\n",
            "PRDVL_EXM         4978 non-null float64\n",
            "PRDVL_OUT         4978 non-null float64\n",
            "PRDVL_TER         4978 non-null float64\n",
            "PRDVL_INT         4978 non-null float64\n",
            "COUNT_FOCO        4978 non-null int64\n",
            "VLR_FOCO          4978 non-null float64\n",
            "VLR_FOCOpTOT      4978 non-null float64\n",
            "GRP_SUM           4978 non-null float64\n",
            "GRP_SKEW          4978 non-null float64\n",
            "GRP_MEAN          4978 non-null float64\n",
            "GRP_SKEW1         4725 non-null float64\n",
            "GRP_MEAN1         4785 non-null float64\n",
            "GRP_SKEW2         4952 non-null float64\n",
            "GRP_MEAN2         4959 non-null float64\n",
            "GRP_MEANd         4766 non-null float64\n",
            "GRP_SKEWd         4699 non-null float64\n",
            "COUNT_FOCOpTot    4978 non-null float64\n",
            "dtypes: float64(29), int64(10), object(2)\n",
            "memory usage: 1.6+ MB\n"
          ],
          "name": "stdout"
        }
      ]
    },
    {
      "cell_type": "code",
      "metadata": {
        "id": "AkX8nBPUAtE9",
        "colab_type": "code",
        "outputId": "3dcb72a7-6fd3-4579-d1be-5f086f8eb042",
        "colab": {
          "base_uri": "https://localhost:8080/",
          "height": 214
        }
      },
      "source": [
        "dfPaciente.head()"
      ],
      "execution_count": 75,
      "outputs": [
        {
          "output_type": "execute_result",
          "data": {
            "text/html": [
              "<div>\n",
              "<style scoped>\n",
              "    .dataframe tbody tr th:only-of-type {\n",
              "        vertical-align: middle;\n",
              "    }\n",
              "\n",
              "    .dataframe tbody tr th {\n",
              "        vertical-align: top;\n",
              "    }\n",
              "\n",
              "    .dataframe thead th {\n",
              "        text-align: right;\n",
              "    }\n",
              "</style>\n",
              "<table border=\"1\" class=\"dataframe\">\n",
              "  <thead>\n",
              "    <tr style=\"text-align: right;\">\n",
              "      <th></th>\n",
              "      <th>PACIENTE_ID</th>\n",
              "      <th>SEXO_CAT</th>\n",
              "      <th>IDADE</th>\n",
              "      <th>CodFaixaEtaria</th>\n",
              "      <th>CNAE_ID</th>\n",
              "      <th>CNAE_DESCRICAO</th>\n",
              "      <th>COUNT_MESES</th>\n",
              "      <th>COUNT_PROC</th>\n",
              "      <th>VLR_SUM</th>\n",
              "      <th>VLR_MEAN</th>\n",
              "      <th>VLR_MEDIAN</th>\n",
              "      <th>VLR_MIN</th>\n",
              "      <th>VLR_MAX</th>\n",
              "      <th>VLR_STD</th>\n",
              "      <th>VLR_SKEW</th>\n",
              "      <th>VLR_KURT</th>\n",
              "      <th>PRD_SEM</th>\n",
              "      <th>PRD_CONS</th>\n",
              "      <th>PRD_EXM</th>\n",
              "      <th>PRD_OUT</th>\n",
              "      <th>PRD_TER</th>\n",
              "      <th>PRD_INT</th>\n",
              "      <th>PRDVL_SEM</th>\n",
              "      <th>PRDVL_CONS</th>\n",
              "      <th>PRDVL_EXM</th>\n",
              "      <th>PRDVL_OUT</th>\n",
              "      <th>PRDVL_TER</th>\n",
              "      <th>PRDVL_INT</th>\n",
              "      <th>COUNT_FOCO</th>\n",
              "      <th>VLR_FOCO</th>\n",
              "      <th>VLR_FOCOpTOT</th>\n",
              "      <th>GRP_SUM</th>\n",
              "      <th>GRP_SKEW</th>\n",
              "      <th>GRP_MEAN</th>\n",
              "      <th>GRP_SKEW1</th>\n",
              "      <th>GRP_MEAN1</th>\n",
              "      <th>GRP_SKEW2</th>\n",
              "      <th>GRP_MEAN2</th>\n",
              "      <th>GRP_MEANd</th>\n",
              "      <th>GRP_SKEWd</th>\n",
              "      <th>COUNT_FOCOpTot</th>\n",
              "    </tr>\n",
              "  </thead>\n",
              "  <tbody>\n",
              "    <tr>\n",
              "      <th>0</th>\n",
              "      <td>740255</td>\n",
              "      <td>2.0</td>\n",
              "      <td>65.692140</td>\n",
              "      <td>10.0</td>\n",
              "      <td>NaN</td>\n",
              "      <td>NaN</td>\n",
              "      <td>21</td>\n",
              "      <td>458</td>\n",
              "      <td>90479.38</td>\n",
              "      <td>197.553231</td>\n",
              "      <td>8.705</td>\n",
              "      <td>0.00</td>\n",
              "      <td>11807.50</td>\n",
              "      <td>961.640372</td>\n",
              "      <td>8.981095</td>\n",
              "      <td>90.447895</td>\n",
              "      <td>0</td>\n",
              "      <td>48</td>\n",
              "      <td>139</td>\n",
              "      <td>252</td>\n",
              "      <td>13</td>\n",
              "      <td>6</td>\n",
              "      <td>0.0</td>\n",
              "      <td>4817.73</td>\n",
              "      <td>29781.23</td>\n",
              "      <td>52934.76</td>\n",
              "      <td>2403.60</td>\n",
              "      <td>542.06</td>\n",
              "      <td>35</td>\n",
              "      <td>3688.01</td>\n",
              "      <td>4.076078</td>\n",
              "      <td>1164.0</td>\n",
              "      <td>-0.211407</td>\n",
              "      <td>2.541485</td>\n",
              "      <td>-0.218291</td>\n",
              "      <td>2.129870</td>\n",
              "      <td>-0.205356</td>\n",
              "      <td>2.624672</td>\n",
              "      <td>0.494802</td>\n",
              "      <td>0.012936</td>\n",
              "      <td>7.641921</td>\n",
              "    </tr>\n",
              "    <tr>\n",
              "      <th>1</th>\n",
              "      <td>1462618</td>\n",
              "      <td>2.0</td>\n",
              "      <td>80.165049</td>\n",
              "      <td>10.0</td>\n",
              "      <td>NaN</td>\n",
              "      <td>NaN</td>\n",
              "      <td>20</td>\n",
              "      <td>206</td>\n",
              "      <td>37702.05</td>\n",
              "      <td>183.019660</td>\n",
              "      <td>20.140</td>\n",
              "      <td>0.01</td>\n",
              "      <td>2924.15</td>\n",
              "      <td>460.756029</td>\n",
              "      <td>4.376501</td>\n",
              "      <td>20.856117</td>\n",
              "      <td>0</td>\n",
              "      <td>33</td>\n",
              "      <td>145</td>\n",
              "      <td>16</td>\n",
              "      <td>12</td>\n",
              "      <td>0</td>\n",
              "      <td>0.0</td>\n",
              "      <td>4125.44</td>\n",
              "      <td>8213.44</td>\n",
              "      <td>14568.10</td>\n",
              "      <td>10795.07</td>\n",
              "      <td>0.00</td>\n",
              "      <td>33</td>\n",
              "      <td>4125.44</td>\n",
              "      <td>10.942217</td>\n",
              "      <td>419.0</td>\n",
              "      <td>1.050047</td>\n",
              "      <td>2.033981</td>\n",
              "      <td>1.184803</td>\n",
              "      <td>1.957265</td>\n",
              "      <td>0.690762</td>\n",
              "      <td>2.134831</td>\n",
              "      <td>0.177567</td>\n",
              "      <td>-0.494041</td>\n",
              "      <td>16.019417</td>\n",
              "    </tr>\n",
              "    <tr>\n",
              "      <th>2</th>\n",
              "      <td>2531830</td>\n",
              "      <td>1.0</td>\n",
              "      <td>77.869591</td>\n",
              "      <td>10.0</td>\n",
              "      <td>6424703</td>\n",
              "      <td>NaN</td>\n",
              "      <td>33</td>\n",
              "      <td>16663</td>\n",
              "      <td>410020.12</td>\n",
              "      <td>24.606621</td>\n",
              "      <td>3.880</td>\n",
              "      <td>0.00</td>\n",
              "      <td>7500.00</td>\n",
              "      <td>169.555984</td>\n",
              "      <td>20.776280</td>\n",
              "      <td>618.978393</td>\n",
              "      <td>0</td>\n",
              "      <td>960</td>\n",
              "      <td>65</td>\n",
              "      <td>15606</td>\n",
              "      <td>32</td>\n",
              "      <td>0</td>\n",
              "      <td>0.0</td>\n",
              "      <td>70157.46</td>\n",
              "      <td>441.08</td>\n",
              "      <td>309973.12</td>\n",
              "      <td>29448.46</td>\n",
              "      <td>0.00</td>\n",
              "      <td>0</td>\n",
              "      <td>0.00</td>\n",
              "      <td>0.000000</td>\n",
              "      <td>48036.0</td>\n",
              "      <td>-3.648959</td>\n",
              "      <td>2.882794</td>\n",
              "      <td>-3.312563</td>\n",
              "      <td>2.861477</td>\n",
              "      <td>-5.448581</td>\n",
              "      <td>2.945991</td>\n",
              "      <td>0.084514</td>\n",
              "      <td>-2.136018</td>\n",
              "      <td>0.000000</td>\n",
              "    </tr>\n",
              "    <tr>\n",
              "      <th>3</th>\n",
              "      <td>4263234</td>\n",
              "      <td>2.0</td>\n",
              "      <td>83.811940</td>\n",
              "      <td>10.0</td>\n",
              "      <td>NaN</td>\n",
              "      <td>NaN</td>\n",
              "      <td>28</td>\n",
              "      <td>335</td>\n",
              "      <td>26835.37</td>\n",
              "      <td>80.105582</td>\n",
              "      <td>16.990</td>\n",
              "      <td>0.00</td>\n",
              "      <td>1045.25</td>\n",
              "      <td>169.036937</td>\n",
              "      <td>3.280952</td>\n",
              "      <td>10.647240</td>\n",
              "      <td>0</td>\n",
              "      <td>58</td>\n",
              "      <td>139</td>\n",
              "      <td>133</td>\n",
              "      <td>5</td>\n",
              "      <td>0</td>\n",
              "      <td>0.0</td>\n",
              "      <td>5730.21</td>\n",
              "      <td>6175.14</td>\n",
              "      <td>13365.87</td>\n",
              "      <td>1564.15</td>\n",
              "      <td>0.00</td>\n",
              "      <td>38</td>\n",
              "      <td>4221.26</td>\n",
              "      <td>15.730210</td>\n",
              "      <td>755.0</td>\n",
              "      <td>-0.244463</td>\n",
              "      <td>2.253731</td>\n",
              "      <td>-0.514616</td>\n",
              "      <td>2.369099</td>\n",
              "      <td>0.333741</td>\n",
              "      <td>1.990196</td>\n",
              "      <td>-0.378903</td>\n",
              "      <td>0.848358</td>\n",
              "      <td>11.343284</td>\n",
              "    </tr>\n",
              "    <tr>\n",
              "      <th>4</th>\n",
              "      <td>4293611</td>\n",
              "      <td>2.0</td>\n",
              "      <td>20.273381</td>\n",
              "      <td>2.0</td>\n",
              "      <td>NaN</td>\n",
              "      <td>NaN</td>\n",
              "      <td>25</td>\n",
              "      <td>139</td>\n",
              "      <td>18738.57</td>\n",
              "      <td>134.809856</td>\n",
              "      <td>63.090</td>\n",
              "      <td>0.01</td>\n",
              "      <td>1716.62</td>\n",
              "      <td>260.346057</td>\n",
              "      <td>4.110142</td>\n",
              "      <td>19.646096</td>\n",
              "      <td>0</td>\n",
              "      <td>43</td>\n",
              "      <td>63</td>\n",
              "      <td>26</td>\n",
              "      <td>7</td>\n",
              "      <td>0</td>\n",
              "      <td>0.0</td>\n",
              "      <td>4450.96</td>\n",
              "      <td>3621.45</td>\n",
              "      <td>4945.85</td>\n",
              "      <td>5720.31</td>\n",
              "      <td>0.00</td>\n",
              "      <td>39</td>\n",
              "      <td>4354.96</td>\n",
              "      <td>23.240621</td>\n",
              "      <td>275.0</td>\n",
              "      <td>0.565453</td>\n",
              "      <td>1.978417</td>\n",
              "      <td>0.577175</td>\n",
              "      <td>1.788732</td>\n",
              "      <td>0.364220</td>\n",
              "      <td>2.176471</td>\n",
              "      <td>0.387738</td>\n",
              "      <td>-0.212955</td>\n",
              "      <td>28.057554</td>\n",
              "    </tr>\n",
              "  </tbody>\n",
              "</table>\n",
              "</div>"
            ],
            "text/plain": [
              "   PACIENTE_ID  SEXO_CAT      IDADE  CodFaixaEtaria  CNAE_ID CNAE_DESCRICAO  \\\n",
              "0       740255       2.0  65.692140            10.0      NaN            NaN   \n",
              "1      1462618       2.0  80.165049            10.0      NaN            NaN   \n",
              "2      2531830       1.0  77.869591            10.0  6424703            NaN   \n",
              "3      4263234       2.0  83.811940            10.0      NaN            NaN   \n",
              "4      4293611       2.0  20.273381             2.0      NaN            NaN   \n",
              "\n",
              "   COUNT_MESES  COUNT_PROC    VLR_SUM    VLR_MEAN  VLR_MEDIAN  VLR_MIN  \\\n",
              "0           21         458   90479.38  197.553231       8.705     0.00   \n",
              "1           20         206   37702.05  183.019660      20.140     0.01   \n",
              "2           33       16663  410020.12   24.606621       3.880     0.00   \n",
              "3           28         335   26835.37   80.105582      16.990     0.00   \n",
              "4           25         139   18738.57  134.809856      63.090     0.01   \n",
              "\n",
              "    VLR_MAX     VLR_STD   VLR_SKEW    VLR_KURT  PRD_SEM  PRD_CONS  PRD_EXM  \\\n",
              "0  11807.50  961.640372   8.981095   90.447895        0        48      139   \n",
              "1   2924.15  460.756029   4.376501   20.856117        0        33      145   \n",
              "2   7500.00  169.555984  20.776280  618.978393        0       960       65   \n",
              "3   1045.25  169.036937   3.280952   10.647240        0        58      139   \n",
              "4   1716.62  260.346057   4.110142   19.646096        0        43       63   \n",
              "\n",
              "   PRD_OUT  PRD_TER  PRD_INT  PRDVL_SEM  PRDVL_CONS  PRDVL_EXM  PRDVL_OUT  \\\n",
              "0      252       13        6        0.0     4817.73   29781.23   52934.76   \n",
              "1       16       12        0        0.0     4125.44    8213.44   14568.10   \n",
              "2    15606       32        0        0.0    70157.46     441.08  309973.12   \n",
              "3      133        5        0        0.0     5730.21    6175.14   13365.87   \n",
              "4       26        7        0        0.0     4450.96    3621.45    4945.85   \n",
              "\n",
              "   PRDVL_TER  PRDVL_INT  COUNT_FOCO  VLR_FOCO  VLR_FOCOpTOT  GRP_SUM  \\\n",
              "0    2403.60     542.06          35   3688.01      4.076078   1164.0   \n",
              "1   10795.07       0.00          33   4125.44     10.942217    419.0   \n",
              "2   29448.46       0.00           0      0.00      0.000000  48036.0   \n",
              "3    1564.15       0.00          38   4221.26     15.730210    755.0   \n",
              "4    5720.31       0.00          39   4354.96     23.240621    275.0   \n",
              "\n",
              "   GRP_SKEW  GRP_MEAN  GRP_SKEW1  GRP_MEAN1  GRP_SKEW2  GRP_MEAN2  GRP_MEANd  \\\n",
              "0 -0.211407  2.541485  -0.218291   2.129870  -0.205356   2.624672   0.494802   \n",
              "1  1.050047  2.033981   1.184803   1.957265   0.690762   2.134831   0.177567   \n",
              "2 -3.648959  2.882794  -3.312563   2.861477  -5.448581   2.945991   0.084514   \n",
              "3 -0.244463  2.253731  -0.514616   2.369099   0.333741   1.990196  -0.378903   \n",
              "4  0.565453  1.978417   0.577175   1.788732   0.364220   2.176471   0.387738   \n",
              "\n",
              "   GRP_SKEWd  COUNT_FOCOpTot  \n",
              "0   0.012936        7.641921  \n",
              "1  -0.494041       16.019417  \n",
              "2  -2.136018        0.000000  \n",
              "3   0.848358       11.343284  \n",
              "4  -0.212955       28.057554  "
            ]
          },
          "metadata": {
            "tags": []
          },
          "execution_count": 75
        }
      ]
    },
    {
      "cell_type": "code",
      "metadata": {
        "id": "Yn1zkpl2bo0k",
        "colab_type": "code",
        "colab": {}
      },
      "source": [
        ""
      ],
      "execution_count": 0,
      "outputs": []
    },
    {
      "cell_type": "code",
      "metadata": {
        "id": "K4mdlwiaboxy",
        "colab_type": "code",
        "colab": {}
      },
      "source": [
        "# Categorização do CNAE\n",
        "# Esses dados estão muito faltantes e as vezes não corresponde ao paciente, mas ao titular do plano dele\n",
        "# Se mostrou pouco importante em análises paralelas\n",
        "dfPaciente['CAT_CNAE'] = 0\n",
        "\n",
        "dfPaciente.loc[dfPaciente['CNAE_DESCRICAO'].str.contains(\"Comércio\",case=False)==True, ['CAT_CNAE']] = 1\n",
        "dfPaciente.loc[dfPaciente['CNAE_DESCRICAO'].str.contains(\"Lojas\",case=False)==True, ['CAT_CNAE']] = 1\n",
        "dfPaciente.loc[dfPaciente['CNAE_DESCRICAO'].str.contains(\"Padaria\",case=False)==True, ['CAT_CNAE']] = 1\n",
        "dfPaciente.loc[dfPaciente['CNAE_DESCRICAO'].str.contains(\"Lanchonetes\",case=False)==True, ['CAT_CNAE']] = 1\n",
        "dfPaciente.loc[dfPaciente['CNAE_DESCRICAO'].str.contains(\"representantes comerciais\",case=False)==True, ['CAT_CNAE']] = 1\n",
        "dfPaciente.loc[dfPaciente['CNAE_DESCRICAO'].str.contains(\"Aluguel\",case=False)==True, ['CAT_CNAE']] = 1\n",
        "dfPaciente.loc[dfPaciente['CNAE_DESCRICAO'].str.contains(\"Fotocópias\",case=False)==True, ['CAT_CNAE']] = 1\n",
        "dfPaciente.loc[dfPaciente['CNAE_DESCRICAO'].str.contains(\"Agências de viagens\",case=False)==True, ['CAT_CNAE']] = 1\n",
        "dfPaciente.loc[dfPaciente['CNAE_DESCRICAO'].str.contains(\"advocatícios\",case=False)==True, ['CAT_CNAE']] = 1\n",
        "dfPaciente.loc[dfPaciente['CNAE_DESCRICAO'].str.contains(\"Corretor\",case=False)==True, ['CAT_CNAE']] = 1\n",
        "dfPaciente.loc[dfPaciente['CNAE_DESCRICAO'].str.contains(\"Suporte técnico\",case=False)==True, ['CAT_CNAE']] = 1\n",
        "\n",
        "\n",
        "dfPaciente.loc[dfPaciente['CNAE_DESCRICAO'].str.contains(\"educação\",case=False)==True, ['CAT_CNAE']] = 1\n",
        "dfPaciente.loc[dfPaciente['CNAE_DESCRICAO'].str.contains(\"consultoria\",case=False)==True, ['CAT_CNAE']] = 1\n",
        "dfPaciente.loc[dfPaciente['CNAE_DESCRICAO'].str.contains(\"Treinamento\",case=False)==True, ['CAT_CNAE']] = 1\n",
        "dfPaciente.loc[dfPaciente['CNAE_DESCRICAO'].str.contains(\"Desenvolvimento e licenciamento\",case=False)==True, ['CAT_CNAE']] = 1\n",
        "dfPaciente.loc[dfPaciente['CNAE_DESCRICAO'].str.contains(\"Tratamento de dados\",case=False)==True, ['CAT_CNAE']] = 1\n",
        "dfPaciente.loc[dfPaciente['CNAE_DESCRICAO'].str.contains(\"Desenvolvimento de programas\",case=False)==True, ['CAT_CNAE']] = 1\n",
        "dfPaciente.loc[dfPaciente['CNAE_DESCRICAO'].str.contains(\"manutenção de computadores\",case=False)==True, ['CAT_CNAE']] = 1\n",
        "dfPaciente.loc[dfPaciente['CNAE_DESCRICAO'].str.contains(\"Confecção de peças do vestuário\",case=False)==True, ['CAT_CNAE']] = 1\n",
        "dfPaciente.loc[dfPaciente['CNAE_DESCRICAO'].str.contains(\"monitoramento\",case=False)==True, ['CAT_CNAE']] = 1\n",
        "dfPaciente.loc[dfPaciente['CNAE_DESCRICAO'].str.contains(\"cinematográficos'\",case=False)==True, ['CAT_CNAE']] = 1\n",
        "dfPaciente.loc[dfPaciente['CNAE_DESCRICAO'].str.contains(\"Agências de publicidade\",case=False)==True, ['CAT_CNAE']] = 1\n",
        "dfPaciente.loc[dfPaciente['CNAE_DESCRICAO'].str.contains(\"ensino\",case=False)==True, ['CAT_CNAE']] = 1\n",
        "dfPaciente.loc[dfPaciente['CNAE_DESCRICAO'].str.contains(\"contabilidade|administrativo\",case=False)==True, ['CAT_CNAE']] = 1\n",
        "\n",
        "\n",
        "dfPaciente.loc[dfPaciente['CNAE_DESCRICAO'].str.contains(\"Fabricação\",case=False)==True, ['CAT_CNAE']] = 2\n",
        "dfPaciente.loc[dfPaciente['CNAE_DESCRICAO'].str.contains(\"Fundição\",case=False)==True, ['CAT_CNAE']] = 2\n",
        "dfPaciente.loc[dfPaciente['CNAE_DESCRICAO'].str.contains(\"usinagem\",case=False)==True, ['CAT_CNAE']] = 2\n",
        "dfPaciente.loc[dfPaciente['CNAE_DESCRICAO'].str.contains(\"urbanização\",case=False)==True, ['CAT_CNAE']] = 2\n",
        "dfPaciente.loc[dfPaciente['CNAE_DESCRICAO'].str.contains(\"Extração\",case=False)==True, ['CAT_CNAE']] = 2\n",
        "dfPaciente.loc[dfPaciente['CNAE_DESCRICAO'].str.contains(\"terraplenagem\",case=False)==True, ['CAT_CNAE']] = 2\n",
        "dfPaciente.loc[dfPaciente['CNAE_DESCRICAO'].str.contains(\"manutenção e reparação\",case=False)==True, ['CAT_CNAE']] = 2\n",
        "dfPaciente.loc[dfPaciente['CNAE_DESCRICAO'].str.contains(\"lanternagem\",case=False)==True, ['CAT_CNAE']] = 2\n",
        "dfPaciente.loc[dfPaciente['CNAE_DESCRICAO'].str.contains(\"manutenção elétrica\",case=False)==True, ['CAT_CNAE']] = 2\n",
        "dfPaciente.loc[dfPaciente['CNAE_DESCRICAO'].str.contains(\"Instalação de máquinas\",case=False)==True, ['CAT_CNAE']] = 2\n",
        "dfPaciente.loc[dfPaciente['CNAE_DESCRICAO'].str.contains(\"Reparação e manutenção\",case=False)==True, ['CAT_CNAE']] = 2\n",
        "dfPaciente.loc[dfPaciente['CNAE_DESCRICAO'].str.contains(\"Construção\",case=False)==True, ['CAT_CNAE']] = 2\n",
        "dfPaciente.loc[dfPaciente['CNAE_DESCRICAO'].str.contains(\"automotores\",case=False)==True, ['CAT_CNAE']] = 2\n",
        "\n",
        "\n",
        "dfPaciente.loc[dfPaciente['CNAE_DESCRICAO'].str.contains(\"Restaurante\",case=False)==True, ['CAT_CNAE']] = 3\n",
        "dfPaciente.loc[dfPaciente['CNAE_DESCRICAO'].str.contains(\"Frigorífico\",case=False)==True, ['CAT_CNAE']] = 3\n",
        "dfPaciente.loc[dfPaciente['CNAE_DESCRICAO'].str.contains(\"Abate de aves\",case=False)==True, ['CAT_CNAE']] = 3\n",
        "dfPaciente.loc[dfPaciente['CNAE_DESCRICAO'].str.contains(\"alimentos\",case=False)==True, ['CAT_CNAE']] = 3\n",
        "\n",
        "dfPaciente.loc[dfPaciente['CNAE_DESCRICAO'].str.contains(\"Laboratórios clínicos\",case=False)==True, ['CAT_CNAE']] = 4\n",
        "dfPaciente.loc[dfPaciente['CNAE_DESCRICAO'].str.contains(\"atendimento hospitalar\",case=False)==True, ['CAT_CNAE']] = 4\n",
        "dfPaciente.loc[dfPaciente['CNAE_DESCRICAO'].str.contains(\"odontológica\",case=False)==True, ['CAT_CNAE']] = 4\n",
        "dfPaciente.loc[dfPaciente['CNAE_DESCRICAO'].str.contains(\"Estética\",case=False)==True, ['CAT_CNAE']] = 4\n",
        "dfPaciente.loc[dfPaciente['CNAE_DESCRICAO'].str.contains(\"ambulatorial\",case=False)==True, ['CAT_CNAE']] = 4\n",
        "dfPaciente.loc[dfPaciente['CNAE_DESCRICAO'].str.contains(\"fisioterapia\",case=False)==True, ['CAT_CNAE']] = 4\n",
        "dfPaciente.loc[dfPaciente['CNAE_DESCRICAO'].str.contains(\"diagnóstico\",case=False)==True, ['CAT_CNAE']] = 4\n",
        "dfPaciente.loc[dfPaciente['CNAE_DESCRICAO'].str.contains(\"radioterapia\",case=False)==True, ['CAT_CNAE']] = 4\n",
        "dfPaciente.loc[dfPaciente['CNAE_DESCRICAO'].str.contains(\"patológica\",case=False)==True, ['CAT_CNAE']] = 4\n",
        "dfPaciente.loc[dfPaciente['CNAE_DESCRICAO'].str.contains(\"saúde humana\",case=False)==True, ['CAT_CNAE']] = 4\n",
        "dfPaciente.loc[dfPaciente['CNAE_DESCRICAO'].str.contains(\"enfermagem\",case=False)==True, ['CAT_CNAE']] = 4\n",
        "dfPaciente.loc[dfPaciente['CNAE_DESCRICAO'].str.contains(\"prontosocorro|hospitalares\",case=False)==True, ['CAT_CNAE']] = 4\n",
        "\n",
        "dfPaciente.loc[dfPaciente['CNAE_DESCRICAO'].str.contains(\"Transporte|rodoviário\",case=False)==True, ['CAT_CNAE']] = 5\n",
        "dfPaciente.loc[dfPaciente['CNAE_DESCRICAO'].str.contains(\"Entrega\",case=False)==True, ['CAT_CNAE']] = 5"
      ],
      "execution_count": 0,
      "outputs": []
    },
    {
      "cell_type": "code",
      "metadata": {
        "id": "3AexI-RZPcmR",
        "colab_type": "code",
        "colab": {}
      },
      "source": [
        ""
      ],
      "execution_count": 0,
      "outputs": []
    },
    {
      "cell_type": "code",
      "metadata": {
        "id": "GavSMFPjCBYe",
        "colab_type": "code",
        "colab": {}
      },
      "source": [
        "dfPaciente.to_csv('PacienteTot.csv')"
      ],
      "execution_count": 0,
      "outputs": []
    },
    {
      "cell_type": "code",
      "metadata": {
        "id": "KVBZUPlROsSv",
        "colab_type": "code",
        "colab": {}
      },
      "source": [
        ""
      ],
      "execution_count": 0,
      "outputs": []
    },
    {
      "cell_type": "markdown",
      "metadata": {
        "id": "nS31IVYtOvU7",
        "colab_type": "text"
      },
      "source": [
        "## FILTRO DOS PACIENTES"
      ]
    },
    {
      "cell_type": "code",
      "metadata": {
        "id": "ikO76ufMQfxW",
        "colab_type": "code",
        "outputId": "8f69917c-ad3a-45ca-f4e8-dc8c4ceec21c",
        "colab": {
          "base_uri": "https://localhost:8080/",
          "height": 729
        }
      },
      "source": [
        "# Existe algum padrão para os dados faltantes? São de idosos aposentados, são de crianças?\n",
        "# O número de idosos sem dado é maior, então pode ser um motivo, mas não é conclusivo, pois as pessoas não precisam informar.\n",
        "fig, ax = plt.subplots(figsize=(10,5))\n",
        "dfPaciente[(dfPaciente['CNAE_ID'].isna()) & (dfPaciente['SEXO_CAT']==1)].hist(column='CodFaixaEtaria', ax=ax, label='M')\n",
        "dfPaciente[(dfPaciente['CNAE_ID'].isna()) & (dfPaciente['SEXO_CAT']==2)].hist(column='CodFaixaEtaria', ax=ax, label='F',alpha=0.8)\n",
        "ax.set_xlabel('Faixa etária', fontsize=SizeLb)\n",
        "ax.set_ylabel('Número de amostras', fontsize=SizeLb)\n",
        "ax.set_title('Dados faltantes para tipo de trabalho', fontsize=SizeTt)\n",
        "ax.grid(b=True)\n",
        "ax.tick_params(labelsize=SizeTk)\n",
        "ax.legend(fontsize=SizeLg)\n",
        "plt.show()\n",
        "\n",
        "fig, ax = plt.subplots(figsize=(10,5))\n",
        "dfPaciente[(~dfPaciente['CNAE_ID'].isna()) & (dfPaciente['SEXO_CAT']==1)].hist(column='CodFaixaEtaria', ax=ax, label='M')\n",
        "dfPaciente[(~dfPaciente['CNAE_ID'].isna()) & (dfPaciente['SEXO_CAT']==2)].hist(column='CodFaixaEtaria', ax=ax, label='F',alpha=0.8)\n",
        "ax.set_xlabel('Faixa etária', fontsize=SizeLb)\n",
        "ax.set_ylabel('Número de amostras', fontsize=SizeLb)\n",
        "ax.set_title('Dados não faltantes para tipo de trabalho', fontsize=SizeTt)\n",
        "ax.grid(b=True)\n",
        "ax.tick_params(labelsize=SizeTk)\n",
        "ax.legend(fontsize=SizeLg)\n",
        "plt.show()"
      ],
      "execution_count": 126,
      "outputs": [
        {
          "output_type": "display_data",
          "data": {
            "image/png": "[encoded data removed]",
            "text/plain": [
              "<Figure size 720x360 with 1 Axes>"
            ]
          },
          "metadata": {
            "tags": []
          }
        },
        {
          "output_type": "display_data",
          "data": {
            "image/png": "[encoded data removed]",
            "text/plain": [
              "<Figure size 720x360 with 1 Axes>"
            ]
          },
          "metadata": {
            "tags": []
          }
        }
      ]
    },
    {
      "cell_type": "code",
      "metadata": {
        "id": "tpCCJKqnULNY",
        "colab_type": "code",
        "outputId": "b0ef85b2-2954-40e2-b4e3-996a61ba5ec7",
        "colab": {
          "base_uri": "https://localhost:8080/",
          "height": 35
        }
      },
      "source": [
        "# Várias crianças com menos de 10 anos que trabalham: valor é dos titulares do plano\n",
        "dfPaciente[(~dfPaciente['CNAE_ID'].isna()) & (dfPaciente['IDADE']<10)].shape"
      ],
      "execution_count": 127,
      "outputs": [
        {
          "output_type": "execute_result",
          "data": {
            "text/plain": [
              "(113, 42)"
            ]
          },
          "metadata": {
            "tags": []
          },
          "execution_count": 127
        }
      ]
    },
    {
      "cell_type": "code",
      "metadata": {
        "id": "AiF3lKZ1OsPa",
        "colab_type": "code",
        "colab": {}
      },
      "source": [
        "# Excluindo categorias de idade 1 e 10 (A ideia é focar nas faixas etárias de trabalhadores)\n",
        "dfPF = dfPaciente[(dfPaciente['CodFaixaEtaria']>1) & (dfPaciente['CodFaixaEtaria']<10)]"
      ],
      "execution_count": 0,
      "outputs": []
    },
    {
      "cell_type": "code",
      "metadata": {
        "id": "EYfAOthfg7Hh",
        "colab_type": "code",
        "outputId": "1231a1ff-fc2d-4b03-f8b8-f6006eec6e26",
        "colab": {
          "base_uri": "https://localhost:8080/",
          "height": 852
        }
      },
      "source": [
        "dfPF.info()"
      ],
      "execution_count": 129,
      "outputs": [
        {
          "output_type": "stream",
          "text": [
            "<class 'pandas.core.frame.DataFrame'>\n",
            "Int64Index: 2835 entries, 4 to 4976\n",
            "Data columns (total 42 columns):\n",
            "PACIENTE_ID       2835 non-null int64\n",
            "SEXO_CAT          2835 non-null float64\n",
            "IDADE             2835 non-null float64\n",
            "CodFaixaEtaria    2835 non-null float64\n",
            "CNAE_ID           2003 non-null object\n",
            "CNAE_DESCRICAO    1364 non-null object\n",
            "COUNT_MESES       2835 non-null int64\n",
            "COUNT_PROC        2835 non-null int64\n",
            "VLR_SUM           2835 non-null float64\n",
            "VLR_MEAN          2835 non-null float64\n",
            "VLR_MEDIAN        2835 non-null float64\n",
            "VLR_MIN           2835 non-null float64\n",
            "VLR_MAX           2835 non-null float64\n",
            "VLR_STD           2835 non-null float64\n",
            "VLR_SKEW          2835 non-null float64\n",
            "VLR_KURT          2835 non-null float64\n",
            "PRD_SEM           2835 non-null int64\n",
            "PRD_CONS          2835 non-null int64\n",
            "PRD_EXM           2835 non-null int64\n",
            "PRD_OUT           2835 non-null int64\n",
            "PRD_TER           2835 non-null int64\n",
            "PRD_INT           2835 non-null int64\n",
            "PRDVL_SEM         2835 non-null float64\n",
            "PRDVL_CONS        2835 non-null float64\n",
            "PRDVL_EXM         2835 non-null float64\n",
            "PRDVL_OUT         2835 non-null float64\n",
            "PRDVL_TER         2835 non-null float64\n",
            "PRDVL_INT         2835 non-null float64\n",
            "COUNT_FOCO        2835 non-null int64\n",
            "VLR_FOCO          2835 non-null float64\n",
            "VLR_FOCOpTOT      2835 non-null float64\n",
            "GRP_SUM           2835 non-null float64\n",
            "GRP_SKEW          2835 non-null float64\n",
            "GRP_MEAN          2835 non-null float64\n",
            "GRP_SKEW1         2660 non-null float64\n",
            "GRP_MEAN1         2707 non-null float64\n",
            "GRP_SKEW2         2824 non-null float64\n",
            "GRP_MEAN2         2828 non-null float64\n",
            "GRP_MEANd         2700 non-null float64\n",
            "GRP_SKEWd         2649 non-null float64\n",
            "COUNT_FOCOpTot    2835 non-null float64\n",
            "CAT_CNAE          2835 non-null int64\n",
            "dtypes: float64(29), int64(11), object(2)\n",
            "memory usage: 952.4+ KB\n"
          ],
          "name": "stdout"
        }
      ]
    },
    {
      "cell_type": "code",
      "metadata": {
        "id": "KfwDAmPqwqj5",
        "colab_type": "code",
        "colab": {}
      },
      "source": [
        ""
      ],
      "execution_count": 0,
      "outputs": []
    },
    {
      "cell_type": "code",
      "metadata": {
        "id": "LPWL1VoNwqfw",
        "colab_type": "code",
        "outputId": "af0a73e8-75d4-41cc-d502-d53a44440257",
        "colab": {
          "base_uri": "https://localhost:8080/",
          "height": 1000
        }
      },
      "source": [
        "# Algum sexo gasta mais com consultas?\n",
        "fig, ax = plt.subplots(figsize=(10,5))\n",
        "dfPF[(dfPF['SEXO_CAT']==1)].hist(column='COUNT_FOCO', ax=ax, label='M')\n",
        "dfPF[(dfPF['SEXO_CAT']==2)].hist(column='COUNT_FOCO', ax=ax, label='F',alpha=0.8)\n",
        "ax.set_xlabel('Quantidade de consultas', fontsize=SizeLb)\n",
        "ax.set_ylabel('Número de amostras', fontsize=SizeLb)\n",
        "ax.grid(b=True)\n",
        "ax.tick_params(labelsize=SizeTk)\n",
        "ax.legend(fontsize=SizeLg)\n",
        "plt.show()\n",
        "\n",
        "fig, ax = plt.subplots(figsize=(10,5))\n",
        "dfPF[(dfPF['SEXO_CAT']==1)].hist(column='VLR_FOCO', ax=ax, label='M')\n",
        "dfPF[(dfPF['SEXO_CAT']==2)].hist(column='VLR_FOCO', ax=ax, label='F',alpha=0.8)\n",
        "ax.set_xlabel('Gasto com consultas', fontsize=SizeLb)\n",
        "ax.set_ylabel('Número de amostras', fontsize=SizeLb)\n",
        "ax.grid(b=True)\n",
        "ax.tick_params(labelsize=SizeTk)\n",
        "ax.legend(fontsize=SizeLg)\n",
        "plt.show()\n",
        "\n",
        "fig, ax = plt.subplots(figsize=(10,5))\n",
        "dfPF[(dfPF['SEXO_CAT']==1)].hist(column='VLR_FOCOpTOT', ax=ax, label='M')\n",
        "dfPF[(dfPF['SEXO_CAT']==2)].hist(column='VLR_FOCOpTOT', ax=ax, label='F',alpha=0.8)\n",
        "ax.set_xlabel('Gasto relativo com consultas', fontsize=SizeLb)\n",
        "ax.set_ylabel('Número de amostras', fontsize=SizeLb)\n",
        "ax.grid(b=True)\n",
        "ax.tick_params(labelsize=SizeTk)\n",
        "ax.legend(fontsize=SizeLg)\n",
        "plt.show()"
      ],
      "execution_count": 130,
      "outputs": [
        {
          "output_type": "display_data",
          "data": {
            "image/png": "[encoded data removed]",
            "text/plain": [
              "<Figure size 720x360 with 1 Axes>"
            ]
          },
          "metadata": {
            "tags": []
          }
        },
        {
          "output_type": "display_data",
          "data": {
            "image/png": "[encoded data removed]",
            "text/plain": [
              "<Figure size 720x360 with 1 Axes>"
            ]
          },
          "metadata": {
            "tags": []
          }
        },
        {
          "output_type": "display_data",
          "data": {
            "image/png": "[encoded data removed]",
            "text/plain": [
              "<Figure size 720x360 with 1 Axes>"
            ]
          },
          "metadata": {
            "tags": []
          }
        }
      ]
    },
    {
      "cell_type": "code",
      "metadata": {
        "id": "R0w2gUkDyZlg",
        "colab_type": "code",
        "outputId": "bdf2d81d-7b30-4b0f-c2c7-04fe5baeedf2",
        "colab": {
          "base_uri": "https://localhost:8080/",
          "height": 1000
        }
      },
      "source": [
        "# Alguma faixa etária gasta mais com consultas?\n",
        "fig, ax = plt.subplots(figsize=(10,5))\n",
        "for i in np.unique(dfPF['CodFaixaEtaria']):\n",
        "  dfPF[(dfPF['CodFaixaEtaria']==i)].hist(column='VLR_FOCOpTOT', ax=ax, label=str(i), alpha=0.8)\n",
        "ax.set_xlabel('Gasto relativo com consultas', fontsize=SizeLb)\n",
        "ax.set_ylabel('Número de amostras', fontsize=SizeLb)\n",
        "ax.grid(b=True)\n",
        "ax.tick_params(labelsize=SizeTk)\n",
        "ax.legend(fontsize=SizeLg)\n",
        "plt.show()\n",
        "\n",
        "for i in np.unique(dfPF['CodFaixaEtaria']):\n",
        "  fig, ax = plt.subplots(figsize=(10,5))\n",
        "  dfPF[(dfPF['CodFaixaEtaria']==i) & (dfPF['SEXO_CAT']==1)].hist(column='VLR_FOCOpTOT', ax=ax, label='M', alpha=0.8)\n",
        "  dfPF[(dfPF['CodFaixaEtaria']==i) & (dfPF['SEXO_CAT']==2)].hist(column='VLR_FOCOpTOT', ax=ax, label='F', alpha=0.8)\n",
        "  ax.set_xlabel('Gasto relativo com consultas', fontsize=SizeLb)\n",
        "  ax.set_ylabel('Número de amostras', fontsize=SizeLb)\n",
        "  ax.grid(b=True)\n",
        "  ax.tick_params(labelsize=SizeTk)\n",
        "  ax.legend(fontsize=SizeLg)\n",
        "  plt.show()"
      ],
      "execution_count": 131,
      "outputs": [
        {
          "output_type": "display_data",
          "data": {
            "image/png": "[encoded data removed]",
            "text/plain": [
              "<Figure size 720x360 with 1 Axes>"
            ]
          },
          "metadata": {
            "tags": []
          }
        },
        {
          "output_type": "display_data",
          "data": {
            "image/png": "[encoded data removed]",
            "text/plain": [
              "<Figure size 720x360 with 1 Axes>"
            ]
          },
          "metadata": {
            "tags": []
          }
        },
        {
          "output_type": "display_data",
          "data": {
            "image/png": "[encoded data removed]",
            "text/plain": [
              "<Figure size 720x360 with 1 Axes>"
            ]
          },
          "metadata": {
            "tags": []
          }
        },
        {
          "output_type": "display_data",
          "data": {
            "image/png": "[encoded data removed]",
            "text/plain": [
              "<Figure size 720x360 with 1 Axes>"
            ]
          },
          "metadata": {
            "tags": []
          }
        },
        {
          "output_type": "display_data",
          "data": {
            "image/png": "[encoded data removed]",
            "text/plain": [
              "<Figure size 720x360 with 1 Axes>"
            ]
          },
          "metadata": {
            "tags": []
          }
        },
        {
          "output_type": "display_data",
          "data": {
            "image/png": "[encoded data removed]",
            "text/plain": [
              "<Figure size 720x360 with 1 Axes>"
            ]
          },
          "metadata": {
            "tags": []
          }
        },
        {
          "output_type": "display_data",
          "data": {
            "image/png": "[encoded data removed]",
            "text/plain": [
              "<Figure size 720x360 with 1 Axes>"
            ]
          },
          "metadata": {
            "tags": []
          }
        },
        {
          "output_type": "display_data",
          "data": {
            "image/png": "[encoded data removed]",
            "text/plain": [
              "<Figure size 720x360 with 1 Axes>"
            ]
          },
          "metadata": {
            "tags": []
          }
        },
        {
          "output_type": "display_data",
          "data": {
            "image/png": "[encoded data removed]",
            "text/plain": [
              "<Figure size 720x360 with 1 Axes>"
            ]
          },
          "metadata": {
            "tags": []
          }
        }
      ]
    },
    {
      "cell_type": "code",
      "metadata": {
        "id": "h1PcSL7owqUv",
        "colab_type": "code",
        "colab": {}
      },
      "source": [
        ""
      ],
      "execution_count": 0,
      "outputs": []
    },
    {
      "cell_type": "code",
      "metadata": {
        "id": "mn5WNqIw1Pwy",
        "colab_type": "code",
        "outputId": "0c2e99dd-b445-4e09-e029-e0cd35fa19c8",
        "colab": {
          "base_uri": "https://localhost:8080/",
          "height": 924
        }
      },
      "source": [
        "# Análise de correlação entre as variáveis dos pacientes\n",
        "chemCorr = dfPF.corr()\n",
        "namesCorr = chemCorr.columns\n",
        "\n",
        "minCorr = -1\n",
        "\n",
        "fig, ax = plt.subplots(figsize=(15,15))\n",
        "cax = ax.matshow(chemCorr,cmap='coolwarm', vmin=minCorr, vmax=1)\n",
        "fig.colorbar(cax)\n",
        "ticksCorrPlot = np.arange(chemCorr.shape[0])\n",
        "ax.set_xticks(ticksCorrPlot)\n",
        "ax.set_yticks(ticksCorrPlot)\n",
        "ax.set_xticklabels(namesCorr,rotation=90)\n",
        "ax.set_yticklabels(namesCorr)\n",
        "ax.tick_params(labelsize=SizeTk)\n",
        "ax.grid(b=False)\n",
        "plt.show()"
      ],
      "execution_count": 133,
      "outputs": [
        {
          "output_type": "display_data",
          "data": {
            "image/png": "[encoded data removed]",
            "text/plain": [
              "<Figure size 1080x1080 with 2 Axes>"
            ]
          },
          "metadata": {
            "tags": []
          }
        }
      ]
    },
    {
      "cell_type": "code",
      "metadata": {
        "id": "tyj_XVI_fLsJ",
        "colab_type": "code",
        "outputId": "35277d62-9d53-4ba0-bc99-aabd8407e044",
        "colab": {
          "base_uri": "https://localhost:8080/",
          "height": 364
        }
      },
      "source": [
        "# Mulheres têm mais internação, mas pode ser relacionado à maternidade\n",
        "fig, ax = plt.subplots(figsize=(10,5))\n",
        "dfPF[(dfPF['SEXO_CAT']==1)].hist(column='PRD_INT', ax=ax, label='M')\n",
        "dfPF[(dfPF['SEXO_CAT']==2)].hist(column='PRD_INT', ax=ax, label='F',alpha=0.8)\n",
        "ax.set_xlabel('Tipo de procedimento', fontsize=SizeLb)\n",
        "ax.set_ylabel('Número de amostras', fontsize=SizeLb)\n",
        "# ax.set_title('Dados faltantes para tipo de trabalho', fontsize=SizeTt)\n",
        "ax.grid(b=True)\n",
        "ax.tick_params(labelsize=SizeTk)\n",
        "ax.legend(fontsize=SizeLg)\n",
        "plt.show()"
      ],
      "execution_count": 134,
      "outputs": [
        {
          "output_type": "display_data",
          "data": {
            "image/png": "[encoded data removed]",
            "text/plain": [
              "<Figure size 720x360 with 1 Axes>"
            ]
          },
          "metadata": {
            "tags": []
          }
        }
      ]
    },
    {
      "cell_type": "code",
      "metadata": {
        "id": "XpqdTrUdOsL1",
        "colab_type": "code",
        "outputId": "02daed7a-fd12-40eb-c463-f8de88a77cda",
        "colab": {
          "base_uri": "https://localhost:8080/",
          "height": 302
        }
      },
      "source": [
        "dfPF.describe()"
      ],
      "execution_count": 135,
      "outputs": [
        {
          "output_type": "execute_result",
          "data": {
            "text/html": [
              "<div>\n",
              "<style scoped>\n",
              "    .dataframe tbody tr th:only-of-type {\n",
              "        vertical-align: middle;\n",
              "    }\n",
              "\n",
              "    .dataframe tbody tr th {\n",
              "        vertical-align: top;\n",
              "    }\n",
              "\n",
              "    .dataframe thead th {\n",
              "        text-align: right;\n",
              "    }\n",
              "</style>\n",
              "<table border=\"1\" class=\"dataframe\">\n",
              "  <thead>\n",
              "    <tr style=\"text-align: right;\">\n",
              "      <th></th>\n",
              "      <th>PACIENTE_ID</th>\n",
              "      <th>SEXO_CAT</th>\n",
              "      <th>IDADE</th>\n",
              "      <th>CodFaixaEtaria</th>\n",
              "      <th>COUNT_MESES</th>\n",
              "      <th>COUNT_PROC</th>\n",
              "      <th>VLR_SUM</th>\n",
              "      <th>VLR_MEAN</th>\n",
              "      <th>VLR_MEDIAN</th>\n",
              "      <th>VLR_MIN</th>\n",
              "      <th>VLR_MAX</th>\n",
              "      <th>VLR_STD</th>\n",
              "      <th>VLR_SKEW</th>\n",
              "      <th>VLR_KURT</th>\n",
              "      <th>PRD_SEM</th>\n",
              "      <th>PRD_CONS</th>\n",
              "      <th>PRD_EXM</th>\n",
              "      <th>PRD_OUT</th>\n",
              "      <th>PRD_TER</th>\n",
              "      <th>PRD_INT</th>\n",
              "      <th>PRDVL_SEM</th>\n",
              "      <th>PRDVL_CONS</th>\n",
              "      <th>PRDVL_EXM</th>\n",
              "      <th>PRDVL_OUT</th>\n",
              "      <th>PRDVL_TER</th>\n",
              "      <th>PRDVL_INT</th>\n",
              "      <th>COUNT_FOCO</th>\n",
              "      <th>VLR_FOCO</th>\n",
              "      <th>VLR_FOCOpTOT</th>\n",
              "      <th>GRP_SUM</th>\n",
              "      <th>GRP_SKEW</th>\n",
              "      <th>GRP_MEAN</th>\n",
              "      <th>GRP_SKEW1</th>\n",
              "      <th>GRP_MEAN1</th>\n",
              "      <th>GRP_SKEW2</th>\n",
              "      <th>GRP_MEAN2</th>\n",
              "      <th>GRP_MEANd</th>\n",
              "      <th>GRP_SKEWd</th>\n",
              "      <th>COUNT_FOCOpTot</th>\n",
              "      <th>CAT_CNAE</th>\n",
              "    </tr>\n",
              "  </thead>\n",
              "  <tbody>\n",
              "    <tr>\n",
              "      <th>count</th>\n",
              "      <td>2.835000e+03</td>\n",
              "      <td>2835.000000</td>\n",
              "      <td>2835.000000</td>\n",
              "      <td>2835.000000</td>\n",
              "      <td>2835.000000</td>\n",
              "      <td>2835.000000</td>\n",
              "      <td>2.835000e+03</td>\n",
              "      <td>2835.000000</td>\n",
              "      <td>2835.000000</td>\n",
              "      <td>2835.000000</td>\n",
              "      <td>2835.000000</td>\n",
              "      <td>2835.000000</td>\n",
              "      <td>2835.000000</td>\n",
              "      <td>2835.000000</td>\n",
              "      <td>2835.000000</td>\n",
              "      <td>2835.000000</td>\n",
              "      <td>2835.000000</td>\n",
              "      <td>2835.000000</td>\n",
              "      <td>2835.000000</td>\n",
              "      <td>2835.000000</td>\n",
              "      <td>2835.000000</td>\n",
              "      <td>2835.000000</td>\n",
              "      <td>2835.000000</td>\n",
              "      <td>2.835000e+03</td>\n",
              "      <td>2835.000000</td>\n",
              "      <td>2835.000000</td>\n",
              "      <td>2835.000000</td>\n",
              "      <td>2835.000000</td>\n",
              "      <td>2835.000000</td>\n",
              "      <td>2835.000000</td>\n",
              "      <td>2835.000000</td>\n",
              "      <td>2835.000000</td>\n",
              "      <td>2660.000000</td>\n",
              "      <td>2707.000000</td>\n",
              "      <td>2824.000000</td>\n",
              "      <td>2828.000000</td>\n",
              "      <td>2700.000000</td>\n",
              "      <td>2649.000000</td>\n",
              "      <td>2835.000000</td>\n",
              "      <td>2835.000000</td>\n",
              "    </tr>\n",
              "    <tr>\n",
              "      <th>mean</th>\n",
              "      <td>2.152764e+09</td>\n",
              "      <td>1.661728</td>\n",
              "      <td>38.405769</td>\n",
              "      <td>5.583774</td>\n",
              "      <td>17.727690</td>\n",
              "      <td>266.184127</td>\n",
              "      <td>3.770480e+04</td>\n",
              "      <td>170.861268</td>\n",
              "      <td>35.056160</td>\n",
              "      <td>0.809160</td>\n",
              "      <td>4549.917153</td>\n",
              "      <td>498.104665</td>\n",
              "      <td>5.647406</td>\n",
              "      <td>51.100283</td>\n",
              "      <td>0.053968</td>\n",
              "      <td>32.394356</td>\n",
              "      <td>92.945326</td>\n",
              "      <td>106.241623</td>\n",
              "      <td>31.604586</td>\n",
              "      <td>2.944268</td>\n",
              "      <td>16.649788</td>\n",
              "      <td>3602.492998</td>\n",
              "      <td>3859.472236</td>\n",
              "      <td>2.284114e+04</td>\n",
              "      <td>6306.708899</td>\n",
              "      <td>1078.336183</td>\n",
              "      <td>26.303704</td>\n",
              "      <td>2976.248811</td>\n",
              "      <td>13.028824</td>\n",
              "      <td>678.149559</td>\n",
              "      <td>0.357968</td>\n",
              "      <td>2.357620</td>\n",
              "      <td>0.017668</td>\n",
              "      <td>2.107984</td>\n",
              "      <td>0.230107</td>\n",
              "      <td>2.424933</td>\n",
              "      <td>0.310979</td>\n",
              "      <td>0.228068</td>\n",
              "      <td>14.822302</td>\n",
              "      <td>0.895238</td>\n",
              "    </tr>\n",
              "    <tr>\n",
              "      <th>std</th>\n",
              "      <td>1.243295e+09</td>\n",
              "      <td>0.473205</td>\n",
              "      <td>10.209645</td>\n",
              "      <td>2.041632</td>\n",
              "      <td>7.308549</td>\n",
              "      <td>503.848633</td>\n",
              "      <td>7.055114e+04</td>\n",
              "      <td>183.949755</td>\n",
              "      <td>32.859195</td>\n",
              "      <td>1.468872</td>\n",
              "      <td>9541.021644</td>\n",
              "      <td>974.857512</td>\n",
              "      <td>3.474445</td>\n",
              "      <td>89.758896</td>\n",
              "      <td>0.944610</td>\n",
              "      <td>27.609416</td>\n",
              "      <td>78.672993</td>\n",
              "      <td>408.658985</td>\n",
              "      <td>65.743685</td>\n",
              "      <td>11.143213</td>\n",
              "      <td>724.811203</td>\n",
              "      <td>2787.530165</td>\n",
              "      <td>2999.860643</td>\n",
              "      <td>6.451312e+04</td>\n",
              "      <td>7797.153299</td>\n",
              "      <td>2507.263171</td>\n",
              "      <td>16.925545</td>\n",
              "      <td>1852.138166</td>\n",
              "      <td>7.946895</td>\n",
              "      <td>1490.957001</td>\n",
              "      <td>0.750027</td>\n",
              "      <td>0.344985</td>\n",
              "      <td>0.912674</td>\n",
              "      <td>0.377235</td>\n",
              "      <td>0.927009</td>\n",
              "      <td>0.390995</td>\n",
              "      <td>0.486406</td>\n",
              "      <td>1.243598</td>\n",
              "      <td>6.851128</td>\n",
              "      <td>1.427362</td>\n",
              "    </tr>\n",
              "    <tr>\n",
              "      <th>min</th>\n",
              "      <td>4.293611e+06</td>\n",
              "      <td>1.000000</td>\n",
              "      <td>17.762416</td>\n",
              "      <td>2.000000</td>\n",
              "      <td>1.000000</td>\n",
              "      <td>18.000000</td>\n",
              "      <td>1.752650e+03</td>\n",
              "      <td>14.254197</td>\n",
              "      <td>2.240000</td>\n",
              "      <td>0.000000</td>\n",
              "      <td>202.500000</td>\n",
              "      <td>41.509805</td>\n",
              "      <td>0.213658</td>\n",
              "      <td>-0.711666</td>\n",
              "      <td>0.000000</td>\n",
              "      <td>0.000000</td>\n",
              "      <td>0.000000</td>\n",
              "      <td>2.000000</td>\n",
              "      <td>0.000000</td>\n",
              "      <td>0.000000</td>\n",
              "      <td>0.000000</td>\n",
              "      <td>0.000000</td>\n",
              "      <td>0.000000</td>\n",
              "      <td>2.065000e+02</td>\n",
              "      <td>0.000000</td>\n",
              "      <td>0.000000</td>\n",
              "      <td>0.000000</td>\n",
              "      <td>0.000000</td>\n",
              "      <td>0.000000</td>\n",
              "      <td>48.000000</td>\n",
              "      <td>-3.702339</td>\n",
              "      <td>1.712575</td>\n",
              "      <td>-6.164414</td>\n",
              "      <td>1.000000</td>\n",
              "      <td>-8.717762</td>\n",
              "      <td>1.000000</td>\n",
              "      <td>-1.929982</td>\n",
              "      <td>-8.648647</td>\n",
              "      <td>0.000000</td>\n",
              "      <td>0.000000</td>\n",
              "    </tr>\n",
              "    <tr>\n",
              "      <th>25%</th>\n",
              "      <td>1.073996e+09</td>\n",
              "      <td>1.000000</td>\n",
              "      <td>30.500000</td>\n",
              "      <td>4.000000</td>\n",
              "      <td>12.000000</td>\n",
              "      <td>106.000000</td>\n",
              "      <td>1.461170e+04</td>\n",
              "      <td>100.462813</td>\n",
              "      <td>16.155000</td>\n",
              "      <td>0.010000</td>\n",
              "      <td>1688.140000</td>\n",
              "      <td>238.771077</td>\n",
              "      <td>3.587388</td>\n",
              "      <td>13.950526</td>\n",
              "      <td>0.000000</td>\n",
              "      <td>17.000000</td>\n",
              "      <td>45.000000</td>\n",
              "      <td>13.500000</td>\n",
              "      <td>5.000000</td>\n",
              "      <td>0.000000</td>\n",
              "      <td>0.000000</td>\n",
              "      <td>1974.115000</td>\n",
              "      <td>1919.600000</td>\n",
              "      <td>4.652500e+03</td>\n",
              "      <td>1850.815000</td>\n",
              "      <td>0.000000</td>\n",
              "      <td>15.000000</td>\n",
              "      <td>1713.735000</td>\n",
              "      <td>6.884674</td>\n",
              "      <td>230.000000</td>\n",
              "      <td>-0.086375</td>\n",
              "      <td>2.072011</td>\n",
              "      <td>-0.325122</td>\n",
              "      <td>1.885714</td>\n",
              "      <td>-0.285006</td>\n",
              "      <td>2.116364</td>\n",
              "      <td>0.041919</td>\n",
              "      <td>-0.487038</td>\n",
              "      <td>10.128226</td>\n",
              "      <td>0.000000</td>\n",
              "    </tr>\n",
              "    <tr>\n",
              "      <th>50%</th>\n",
              "      <td>2.140030e+09</td>\n",
              "      <td>2.000000</td>\n",
              "      <td>37.200000</td>\n",
              "      <td>5.000000</td>\n",
              "      <td>18.000000</td>\n",
              "      <td>160.000000</td>\n",
              "      <td>2.003444e+04</td>\n",
              "      <td>134.349286</td>\n",
              "      <td>21.420000</td>\n",
              "      <td>0.010000</td>\n",
              "      <td>2162.580000</td>\n",
              "      <td>324.079076</td>\n",
              "      <td>4.577224</td>\n",
              "      <td>23.912670</td>\n",
              "      <td>0.000000</td>\n",
              "      <td>26.000000</td>\n",
              "      <td>76.000000</td>\n",
              "      <td>25.000000</td>\n",
              "      <td>11.000000</td>\n",
              "      <td>0.000000</td>\n",
              "      <td>0.000000</td>\n",
              "      <td>2978.850000</td>\n",
              "      <td>3117.260000</td>\n",
              "      <td>7.353830e+03</td>\n",
              "      <td>4839.570000</td>\n",
              "      <td>0.000000</td>\n",
              "      <td>23.000000</td>\n",
              "      <td>2591.840000</td>\n",
              "      <td>12.284863</td>\n",
              "      <td>364.000000</td>\n",
              "      <td>0.404920</td>\n",
              "      <td>2.278689</td>\n",
              "      <td>0.115884</td>\n",
              "      <td>2.000000</td>\n",
              "      <td>0.316256</td>\n",
              "      <td>2.341252</td>\n",
              "      <td>0.254348</td>\n",
              "      <td>0.145580</td>\n",
              "      <td>14.864865</td>\n",
              "      <td>0.000000</td>\n",
              "    </tr>\n",
              "    <tr>\n",
              "      <th>75%</th>\n",
              "      <td>3.218716e+09</td>\n",
              "      <td>2.000000</td>\n",
              "      <td>47.002703</td>\n",
              "      <td>7.000000</td>\n",
              "      <td>23.000000</td>\n",
              "      <td>253.000000</td>\n",
              "      <td>3.145132e+04</td>\n",
              "      <td>189.433863</td>\n",
              "      <td>44.000000</td>\n",
              "      <td>2.000000</td>\n",
              "      <td>3791.810000</td>\n",
              "      <td>502.114019</td>\n",
              "      <td>6.489556</td>\n",
              "      <td>49.779360</td>\n",
              "      <td>0.000000</td>\n",
              "      <td>40.000000</td>\n",
              "      <td>116.000000</td>\n",
              "      <td>65.000000</td>\n",
              "      <td>32.000000</td>\n",
              "      <td>2.000000</td>\n",
              "      <td>0.000000</td>\n",
              "      <td>4492.545000</td>\n",
              "      <td>4863.605000</td>\n",
              "      <td>1.561759e+04</td>\n",
              "      <td>7829.050000</td>\n",
              "      <td>1836.160000</td>\n",
              "      <td>34.000000</td>\n",
              "      <td>3787.395000</td>\n",
              "      <td>17.859414</td>\n",
              "      <td>604.000000</td>\n",
              "      <td>0.830716</td>\n",
              "      <td>2.582775</td>\n",
              "      <td>0.594936</td>\n",
              "      <td>2.282247</td>\n",
              "      <td>0.822118</td>\n",
              "      <td>2.677605</td>\n",
              "      <td>0.571276</td>\n",
              "      <td>0.833541</td>\n",
              "      <td>19.194813</td>\n",
              "      <td>1.000000</td>\n",
              "    </tr>\n",
              "    <tr>\n",
              "      <th>max</th>\n",
              "      <td>4.293790e+09</td>\n",
              "      <td>2.000000</td>\n",
              "      <td>57.932394</td>\n",
              "      <td>9.000000</td>\n",
              "      <td>35.000000</td>\n",
              "      <td>8079.000000</td>\n",
              "      <td>1.403795e+06</td>\n",
              "      <td>5682.787458</td>\n",
              "      <td>375.460000</td>\n",
              "      <td>21.220000</td>\n",
              "      <td>310000.000000</td>\n",
              "      <td>40337.914011</td>\n",
              "      <td>33.233236</td>\n",
              "      <td>1485.078186</td>\n",
              "      <td>29.000000</td>\n",
              "      <td>692.000000</td>\n",
              "      <td>1010.000000</td>\n",
              "      <td>6449.000000</td>\n",
              "      <td>1576.000000</td>\n",
              "      <td>164.000000</td>\n",
              "      <td>38415.940000</td>\n",
              "      <td>58518.670000</td>\n",
              "      <td>24951.560000</td>\n",
              "      <td>1.283735e+06</td>\n",
              "      <td>104657.000000</td>\n",
              "      <td>36184.550000</td>\n",
              "      <td>155.000000</td>\n",
              "      <td>14765.100000</td>\n",
              "      <td>50.678510</td>\n",
              "      <td>24347.000000</td>\n",
              "      <td>2.504706</td>\n",
              "      <td>3.653846</td>\n",
              "      <td>3.316625</td>\n",
              "      <td>3.833333</td>\n",
              "      <td>2.599951</td>\n",
              "      <td>3.770053</td>\n",
              "      <td>2.206490</td>\n",
              "      <td>7.045395</td>\n",
              "      <td>47.169811</td>\n",
              "      <td>5.000000</td>\n",
              "    </tr>\n",
              "  </tbody>\n",
              "</table>\n",
              "</div>"
            ],
            "text/plain": [
              "        PACIENTE_ID     SEXO_CAT        IDADE  CodFaixaEtaria  COUNT_MESES  \\\n",
              "count  2.835000e+03  2835.000000  2835.000000     2835.000000  2835.000000   \n",
              "mean   2.152764e+09     1.661728    38.405769        5.583774    17.727690   \n",
              "std    1.243295e+09     0.473205    10.209645        2.041632     7.308549   \n",
              "min    4.293611e+06     1.000000    17.762416        2.000000     1.000000   \n",
              "25%    1.073996e+09     1.000000    30.500000        4.000000    12.000000   \n",
              "50%    2.140030e+09     2.000000    37.200000        5.000000    18.000000   \n",
              "75%    3.218716e+09     2.000000    47.002703        7.000000    23.000000   \n",
              "max    4.293790e+09     2.000000    57.932394        9.000000    35.000000   \n",
              "\n",
              "        COUNT_PROC       VLR_SUM     VLR_MEAN   VLR_MEDIAN      VLR_MIN  \\\n",
              "count  2835.000000  2.835000e+03  2835.000000  2835.000000  2835.000000   \n",
              "mean    266.184127  3.770480e+04   170.861268    35.056160     0.809160   \n",
              "std     503.848633  7.055114e+04   183.949755    32.859195     1.468872   \n",
              "min      18.000000  1.752650e+03    14.254197     2.240000     0.000000   \n",
              "25%     106.000000  1.461170e+04   100.462813    16.155000     0.010000   \n",
              "50%     160.000000  2.003444e+04   134.349286    21.420000     0.010000   \n",
              "75%     253.000000  3.145132e+04   189.433863    44.000000     2.000000   \n",
              "max    8079.000000  1.403795e+06  5682.787458   375.460000    21.220000   \n",
              "\n",
              "             VLR_MAX       VLR_STD     VLR_SKEW     VLR_KURT      PRD_SEM  \\\n",
              "count    2835.000000   2835.000000  2835.000000  2835.000000  2835.000000   \n",
              "mean     4549.917153    498.104665     5.647406    51.100283     0.053968   \n",
              "std      9541.021644    974.857512     3.474445    89.758896     0.944610   \n",
              "min       202.500000     41.509805     0.213658    -0.711666     0.000000   \n",
              "25%      1688.140000    238.771077     3.587388    13.950526     0.000000   \n",
              "50%      2162.580000    324.079076     4.577224    23.912670     0.000000   \n",
              "75%      3791.810000    502.114019     6.489556    49.779360     0.000000   \n",
              "max    310000.000000  40337.914011    33.233236  1485.078186    29.000000   \n",
              "\n",
              "          PRD_CONS      PRD_EXM      PRD_OUT      PRD_TER      PRD_INT  \\\n",
              "count  2835.000000  2835.000000  2835.000000  2835.000000  2835.000000   \n",
              "mean     32.394356    92.945326   106.241623    31.604586     2.944268   \n",
              "std      27.609416    78.672993   408.658985    65.743685    11.143213   \n",
              "min       0.000000     0.000000     2.000000     0.000000     0.000000   \n",
              "25%      17.000000    45.000000    13.500000     5.000000     0.000000   \n",
              "50%      26.000000    76.000000    25.000000    11.000000     0.000000   \n",
              "75%      40.000000   116.000000    65.000000    32.000000     2.000000   \n",
              "max     692.000000  1010.000000  6449.000000  1576.000000   164.000000   \n",
              "\n",
              "          PRDVL_SEM    PRDVL_CONS     PRDVL_EXM     PRDVL_OUT      PRDVL_TER  \\\n",
              "count   2835.000000   2835.000000   2835.000000  2.835000e+03    2835.000000   \n",
              "mean      16.649788   3602.492998   3859.472236  2.284114e+04    6306.708899   \n",
              "std      724.811203   2787.530165   2999.860643  6.451312e+04    7797.153299   \n",
              "min        0.000000      0.000000      0.000000  2.065000e+02       0.000000   \n",
              "25%        0.000000   1974.115000   1919.600000  4.652500e+03    1850.815000   \n",
              "50%        0.000000   2978.850000   3117.260000  7.353830e+03    4839.570000   \n",
              "75%        0.000000   4492.545000   4863.605000  1.561759e+04    7829.050000   \n",
              "max    38415.940000  58518.670000  24951.560000  1.283735e+06  104657.000000   \n",
              "\n",
              "          PRDVL_INT   COUNT_FOCO      VLR_FOCO  VLR_FOCOpTOT       GRP_SUM  \\\n",
              "count   2835.000000  2835.000000   2835.000000   2835.000000   2835.000000   \n",
              "mean    1078.336183    26.303704   2976.248811     13.028824    678.149559   \n",
              "std     2507.263171    16.925545   1852.138166      7.946895   1490.957001   \n",
              "min        0.000000     0.000000      0.000000      0.000000     48.000000   \n",
              "25%        0.000000    15.000000   1713.735000      6.884674    230.000000   \n",
              "50%        0.000000    23.000000   2591.840000     12.284863    364.000000   \n",
              "75%     1836.160000    34.000000   3787.395000     17.859414    604.000000   \n",
              "max    36184.550000   155.000000  14765.100000     50.678510  24347.000000   \n",
              "\n",
              "          GRP_SKEW     GRP_MEAN    GRP_SKEW1    GRP_MEAN1    GRP_SKEW2  \\\n",
              "count  2835.000000  2835.000000  2660.000000  2707.000000  2824.000000   \n",
              "mean      0.357968     2.357620     0.017668     2.107984     0.230107   \n",
              "std       0.750027     0.344985     0.912674     0.377235     0.927009   \n",
              "min      -3.702339     1.712575    -6.164414     1.000000    -8.717762   \n",
              "25%      -0.086375     2.072011    -0.325122     1.885714    -0.285006   \n",
              "50%       0.404920     2.278689     0.115884     2.000000     0.316256   \n",
              "75%       0.830716     2.582775     0.594936     2.282247     0.822118   \n",
              "max       2.504706     3.653846     3.316625     3.833333     2.599951   \n",
              "\n",
              "         GRP_MEAN2    GRP_MEANd    GRP_SKEWd  COUNT_FOCOpTot     CAT_CNAE  \n",
              "count  2828.000000  2700.000000  2649.000000     2835.000000  2835.000000  \n",
              "mean      2.424933     0.310979     0.228068       14.822302     0.895238  \n",
              "std       0.390995     0.486406     1.243598        6.851128     1.427362  \n",
              "min       1.000000    -1.929982    -8.648647        0.000000     0.000000  \n",
              "25%       2.116364     0.041919    -0.487038       10.128226     0.000000  \n",
              "50%       2.341252     0.254348     0.145580       14.864865     0.000000  \n",
              "75%       2.677605     0.571276     0.833541       19.194813     1.000000  \n",
              "max       3.770053     2.206490     7.045395       47.169811     5.000000  "
            ]
          },
          "metadata": {
            "tags": []
          },
          "execution_count": 135
        }
      ]
    },
    {
      "cell_type": "code",
      "metadata": {
        "id": "3Mi4deGvbLze",
        "colab_type": "code",
        "colab": {}
      },
      "source": [
        ""
      ],
      "execution_count": 0,
      "outputs": []
    },
    {
      "cell_type": "code",
      "metadata": {
        "id": "RZ4LMeBObLve",
        "colab_type": "code",
        "colab": {
          "base_uri": "https://localhost:8080/",
          "height": 214
        },
        "outputId": "d628352d-0f6d-4b53-f975-ab45b6a9daca"
      },
      "source": [
        "dfPF.head()"
      ],
      "execution_count": 136,
      "outputs": [
        {
          "output_type": "execute_result",
          "data": {
            "text/html": [
              "<div>\n",
              "<style scoped>\n",
              "    .dataframe tbody tr th:only-of-type {\n",
              "        vertical-align: middle;\n",
              "    }\n",
              "\n",
              "    .dataframe tbody tr th {\n",
              "        vertical-align: top;\n",
              "    }\n",
              "\n",
              "    .dataframe thead th {\n",
              "        text-align: right;\n",
              "    }\n",
              "</style>\n",
              "<table border=\"1\" class=\"dataframe\">\n",
              "  <thead>\n",
              "    <tr style=\"text-align: right;\">\n",
              "      <th></th>\n",
              "      <th>PACIENTE_ID</th>\n",
              "      <th>SEXO_CAT</th>\n",
              "      <th>IDADE</th>\n",
              "      <th>CodFaixaEtaria</th>\n",
              "      <th>CNAE_ID</th>\n",
              "      <th>CNAE_DESCRICAO</th>\n",
              "      <th>COUNT_MESES</th>\n",
              "      <th>COUNT_PROC</th>\n",
              "      <th>VLR_SUM</th>\n",
              "      <th>VLR_MEAN</th>\n",
              "      <th>VLR_MEDIAN</th>\n",
              "      <th>VLR_MIN</th>\n",
              "      <th>VLR_MAX</th>\n",
              "      <th>VLR_STD</th>\n",
              "      <th>VLR_SKEW</th>\n",
              "      <th>VLR_KURT</th>\n",
              "      <th>PRD_SEM</th>\n",
              "      <th>PRD_CONS</th>\n",
              "      <th>PRD_EXM</th>\n",
              "      <th>PRD_OUT</th>\n",
              "      <th>PRD_TER</th>\n",
              "      <th>PRD_INT</th>\n",
              "      <th>PRDVL_SEM</th>\n",
              "      <th>PRDVL_CONS</th>\n",
              "      <th>PRDVL_EXM</th>\n",
              "      <th>PRDVL_OUT</th>\n",
              "      <th>PRDVL_TER</th>\n",
              "      <th>PRDVL_INT</th>\n",
              "      <th>COUNT_FOCO</th>\n",
              "      <th>VLR_FOCO</th>\n",
              "      <th>VLR_FOCOpTOT</th>\n",
              "      <th>GRP_SUM</th>\n",
              "      <th>GRP_SKEW</th>\n",
              "      <th>GRP_MEAN</th>\n",
              "      <th>GRP_SKEW1</th>\n",
              "      <th>GRP_MEAN1</th>\n",
              "      <th>GRP_SKEW2</th>\n",
              "      <th>GRP_MEAN2</th>\n",
              "      <th>GRP_MEANd</th>\n",
              "      <th>GRP_SKEWd</th>\n",
              "      <th>COUNT_FOCOpTot</th>\n",
              "      <th>CAT_CNAE</th>\n",
              "    </tr>\n",
              "  </thead>\n",
              "  <tbody>\n",
              "    <tr>\n",
              "      <th>4</th>\n",
              "      <td>4293611</td>\n",
              "      <td>2.0</td>\n",
              "      <td>20.273381</td>\n",
              "      <td>2.0</td>\n",
              "      <td>NaN</td>\n",
              "      <td>NaN</td>\n",
              "      <td>25</td>\n",
              "      <td>139</td>\n",
              "      <td>18738.57</td>\n",
              "      <td>134.809856</td>\n",
              "      <td>63.09</td>\n",
              "      <td>0.01</td>\n",
              "      <td>1716.62</td>\n",
              "      <td>260.346057</td>\n",
              "      <td>4.110142</td>\n",
              "      <td>19.646096</td>\n",
              "      <td>0</td>\n",
              "      <td>43</td>\n",
              "      <td>63</td>\n",
              "      <td>26</td>\n",
              "      <td>7</td>\n",
              "      <td>0</td>\n",
              "      <td>0.0</td>\n",
              "      <td>4450.96</td>\n",
              "      <td>3621.45</td>\n",
              "      <td>4945.85</td>\n",
              "      <td>5720.31</td>\n",
              "      <td>0.00</td>\n",
              "      <td>39</td>\n",
              "      <td>4354.96</td>\n",
              "      <td>23.240621</td>\n",
              "      <td>275.0</td>\n",
              "      <td>0.565453</td>\n",
              "      <td>1.978417</td>\n",
              "      <td>0.577175</td>\n",
              "      <td>1.788732</td>\n",
              "      <td>0.364220</td>\n",
              "      <td>2.176471</td>\n",
              "      <td>0.387738</td>\n",
              "      <td>-0.212955</td>\n",
              "      <td>28.057554</td>\n",
              "      <td>0</td>\n",
              "    </tr>\n",
              "    <tr>\n",
              "      <th>5</th>\n",
              "      <td>6225781</td>\n",
              "      <td>2.0</td>\n",
              "      <td>38.069853</td>\n",
              "      <td>6.0</td>\n",
              "      <td>NaN</td>\n",
              "      <td>NaN</td>\n",
              "      <td>29</td>\n",
              "      <td>272</td>\n",
              "      <td>19076.70</td>\n",
              "      <td>70.134926</td>\n",
              "      <td>17.38</td>\n",
              "      <td>2.20</td>\n",
              "      <td>1569.07</td>\n",
              "      <td>166.935251</td>\n",
              "      <td>5.684980</td>\n",
              "      <td>38.122360</td>\n",
              "      <td>0</td>\n",
              "      <td>45</td>\n",
              "      <td>194</td>\n",
              "      <td>26</td>\n",
              "      <td>4</td>\n",
              "      <td>3</td>\n",
              "      <td>0.0</td>\n",
              "      <td>5032.69</td>\n",
              "      <td>5628.65</td>\n",
              "      <td>5543.95</td>\n",
              "      <td>859.47</td>\n",
              "      <td>2011.94</td>\n",
              "      <td>43</td>\n",
              "      <td>4718.97</td>\n",
              "      <td>24.736826</td>\n",
              "      <td>542.0</td>\n",
              "      <td>1.315252</td>\n",
              "      <td>1.992647</td>\n",
              "      <td>0.406758</td>\n",
              "      <td>1.943590</td>\n",
              "      <td>1.103421</td>\n",
              "      <td>2.116883</td>\n",
              "      <td>0.173293</td>\n",
              "      <td>0.696663</td>\n",
              "      <td>15.808824</td>\n",
              "      <td>0</td>\n",
              "    </tr>\n",
              "    <tr>\n",
              "      <th>8</th>\n",
              "      <td>6997852</td>\n",
              "      <td>1.0</td>\n",
              "      <td>32.697674</td>\n",
              "      <td>4.0</td>\n",
              "      <td>NaN</td>\n",
              "      <td>NaN</td>\n",
              "      <td>4</td>\n",
              "      <td>43</td>\n",
              "      <td>11555.78</td>\n",
              "      <td>268.739070</td>\n",
              "      <td>112.61</td>\n",
              "      <td>0.01</td>\n",
              "      <td>1989.63</td>\n",
              "      <td>448.008560</td>\n",
              "      <td>2.409704</td>\n",
              "      <td>5.826207</td>\n",
              "      <td>0</td>\n",
              "      <td>8</td>\n",
              "      <td>17</td>\n",
              "      <td>15</td>\n",
              "      <td>3</td>\n",
              "      <td>0</td>\n",
              "      <td>0.0</td>\n",
              "      <td>823.95</td>\n",
              "      <td>1113.01</td>\n",
              "      <td>6429.91</td>\n",
              "      <td>3188.91</td>\n",
              "      <td>0.00</td>\n",
              "      <td>5</td>\n",
              "      <td>486.12</td>\n",
              "      <td>4.206726</td>\n",
              "      <td>99.0</td>\n",
              "      <td>0.064060</td>\n",
              "      <td>2.302326</td>\n",
              "      <td>0.053224</td>\n",
              "      <td>1.923077</td>\n",
              "      <td>-0.198060</td>\n",
              "      <td>2.466667</td>\n",
              "      <td>0.543590</td>\n",
              "      <td>-0.251285</td>\n",
              "      <td>11.627907</td>\n",
              "      <td>0</td>\n",
              "    </tr>\n",
              "    <tr>\n",
              "      <th>9</th>\n",
              "      <td>8048727</td>\n",
              "      <td>2.0</td>\n",
              "      <td>50.187135</td>\n",
              "      <td>8.0</td>\n",
              "      <td>NaN</td>\n",
              "      <td>NaN</td>\n",
              "      <td>22</td>\n",
              "      <td>171</td>\n",
              "      <td>28036.90</td>\n",
              "      <td>163.958480</td>\n",
              "      <td>90.30</td>\n",
              "      <td>0.01</td>\n",
              "      <td>1683.43</td>\n",
              "      <td>276.827180</td>\n",
              "      <td>2.730463</td>\n",
              "      <td>8.077997</td>\n",
              "      <td>0</td>\n",
              "      <td>56</td>\n",
              "      <td>66</td>\n",
              "      <td>45</td>\n",
              "      <td>4</td>\n",
              "      <td>0</td>\n",
              "      <td>0.0</td>\n",
              "      <td>5934.78</td>\n",
              "      <td>2468.76</td>\n",
              "      <td>17584.31</td>\n",
              "      <td>2049.05</td>\n",
              "      <td>0.00</td>\n",
              "      <td>39</td>\n",
              "      <td>4222.06</td>\n",
              "      <td>15.058940</td>\n",
              "      <td>339.0</td>\n",
              "      <td>0.283279</td>\n",
              "      <td>1.982456</td>\n",
              "      <td>0.397268</td>\n",
              "      <td>2.020000</td>\n",
              "      <td>0.134538</td>\n",
              "      <td>1.929577</td>\n",
              "      <td>-0.090423</td>\n",
              "      <td>-0.262730</td>\n",
              "      <td>22.807018</td>\n",
              "      <td>0</td>\n",
              "    </tr>\n",
              "    <tr>\n",
              "      <th>10</th>\n",
              "      <td>9750699</td>\n",
              "      <td>2.0</td>\n",
              "      <td>55.293333</td>\n",
              "      <td>9.0</td>\n",
              "      <td>NaN</td>\n",
              "      <td>NaN</td>\n",
              "      <td>13</td>\n",
              "      <td>75</td>\n",
              "      <td>12405.81</td>\n",
              "      <td>165.410800</td>\n",
              "      <td>22.89</td>\n",
              "      <td>3.16</td>\n",
              "      <td>2159.73</td>\n",
              "      <td>412.182044</td>\n",
              "      <td>3.712489</td>\n",
              "      <td>13.811074</td>\n",
              "      <td>0</td>\n",
              "      <td>14</td>\n",
              "      <td>52</td>\n",
              "      <td>6</td>\n",
              "      <td>3</td>\n",
              "      <td>0</td>\n",
              "      <td>0.0</td>\n",
              "      <td>1853.08</td>\n",
              "      <td>3556.98</td>\n",
              "      <td>3283.36</td>\n",
              "      <td>3712.39</td>\n",
              "      <td>0.00</td>\n",
              "      <td>14</td>\n",
              "      <td>1853.08</td>\n",
              "      <td>14.937195</td>\n",
              "      <td>148.0</td>\n",
              "      <td>0.908296</td>\n",
              "      <td>1.973333</td>\n",
              "      <td>-0.080944</td>\n",
              "      <td>1.900000</td>\n",
              "      <td>1.100888</td>\n",
              "      <td>2.022222</td>\n",
              "      <td>0.122222</td>\n",
              "      <td>1.181832</td>\n",
              "      <td>18.666667</td>\n",
              "      <td>0</td>\n",
              "    </tr>\n",
              "  </tbody>\n",
              "</table>\n",
              "</div>"
            ],
            "text/plain": [
              "    PACIENTE_ID  SEXO_CAT      IDADE  CodFaixaEtaria CNAE_ID CNAE_DESCRICAO  \\\n",
              "4       4293611       2.0  20.273381             2.0     NaN            NaN   \n",
              "5       6225781       2.0  38.069853             6.0     NaN            NaN   \n",
              "8       6997852       1.0  32.697674             4.0     NaN            NaN   \n",
              "9       8048727       2.0  50.187135             8.0     NaN            NaN   \n",
              "10      9750699       2.0  55.293333             9.0     NaN            NaN   \n",
              "\n",
              "    COUNT_MESES  COUNT_PROC   VLR_SUM    VLR_MEAN  VLR_MEDIAN  VLR_MIN  \\\n",
              "4            25         139  18738.57  134.809856       63.09     0.01   \n",
              "5            29         272  19076.70   70.134926       17.38     2.20   \n",
              "8             4          43  11555.78  268.739070      112.61     0.01   \n",
              "9            22         171  28036.90  163.958480       90.30     0.01   \n",
              "10           13          75  12405.81  165.410800       22.89     3.16   \n",
              "\n",
              "    VLR_MAX     VLR_STD  VLR_SKEW   VLR_KURT  PRD_SEM  PRD_CONS  PRD_EXM  \\\n",
              "4   1716.62  260.346057  4.110142  19.646096        0        43       63   \n",
              "5   1569.07  166.935251  5.684980  38.122360        0        45      194   \n",
              "8   1989.63  448.008560  2.409704   5.826207        0         8       17   \n",
              "9   1683.43  276.827180  2.730463   8.077997        0        56       66   \n",
              "10  2159.73  412.182044  3.712489  13.811074        0        14       52   \n",
              "\n",
              "    PRD_OUT  PRD_TER  PRD_INT  PRDVL_SEM  PRDVL_CONS  PRDVL_EXM  PRDVL_OUT  \\\n",
              "4        26        7        0        0.0     4450.96    3621.45    4945.85   \n",
              "5        26        4        3        0.0     5032.69    5628.65    5543.95   \n",
              "8        15        3        0        0.0      823.95    1113.01    6429.91   \n",
              "9        45        4        0        0.0     5934.78    2468.76   17584.31   \n",
              "10        6        3        0        0.0     1853.08    3556.98    3283.36   \n",
              "\n",
              "    PRDVL_TER  PRDVL_INT  COUNT_FOCO  VLR_FOCO  VLR_FOCOpTOT  GRP_SUM  \\\n",
              "4     5720.31       0.00          39   4354.96     23.240621    275.0   \n",
              "5      859.47    2011.94          43   4718.97     24.736826    542.0   \n",
              "8     3188.91       0.00           5    486.12      4.206726     99.0   \n",
              "9     2049.05       0.00          39   4222.06     15.058940    339.0   \n",
              "10    3712.39       0.00          14   1853.08     14.937195    148.0   \n",
              "\n",
              "    GRP_SKEW  GRP_MEAN  GRP_SKEW1  GRP_MEAN1  GRP_SKEW2  GRP_MEAN2  GRP_MEANd  \\\n",
              "4   0.565453  1.978417   0.577175   1.788732   0.364220   2.176471   0.387738   \n",
              "5   1.315252  1.992647   0.406758   1.943590   1.103421   2.116883   0.173293   \n",
              "8   0.064060  2.302326   0.053224   1.923077  -0.198060   2.466667   0.543590   \n",
              "9   0.283279  1.982456   0.397268   2.020000   0.134538   1.929577  -0.090423   \n",
              "10  0.908296  1.973333  -0.080944   1.900000   1.100888   2.022222   0.122222   \n",
              "\n",
              "    GRP_SKEWd  COUNT_FOCOpTot  CAT_CNAE  \n",
              "4   -0.212955       28.057554         0  \n",
              "5    0.696663       15.808824         0  \n",
              "8   -0.251285       11.627907         0  \n",
              "9   -0.262730       22.807018         0  \n",
              "10   1.181832       18.666667         0  "
            ]
          },
          "metadata": {
            "tags": []
          },
          "execution_count": 136
        }
      ]
    },
    {
      "cell_type": "code",
      "metadata": {
        "id": "TD_uUpqpDODd",
        "colab_type": "code",
        "colab": {}
      },
      "source": [
        "dfPF.to_csv('PacienteFilt.csv')"
      ],
      "execution_count": 0,
      "outputs": []
    },
    {
      "cell_type": "markdown",
      "metadata": {
        "id": "1AnrIoURDO1r",
        "colab_type": "text"
      },
      "source": [
        "# CLUSTERING"
      ]
    },
    {
      "cell_type": "code",
      "metadata": {
        "id": "XvrLRYXeDOGQ",
        "colab_type": "code",
        "colab": {}
      },
      "source": [
        "def ElbowMethodKMeans(X,NClustersMax=21, TitleComp='', NInit=25, MaxInt=600, YLim=None, SizeLb = 20, SizeTk = 15, SizeTt = 25):\n",
        "    \"\"\"Elbow Method: Plots the distortion for each number of clusters. It is important to chose the number of clusters.\n",
        "    \n",
        "    Keyword arguments:\n",
        "    X -- Data used for the clustering\n",
        "    NClustersMax -- Number of possible clusters to be analyzed\n",
        "    TitleComp -- Complement for the image title\n",
        "    NInit -- Number of time the k-means algorithm will be run with different centroid seeds.\n",
        "             The final results will be the best output of n_init consecutive runs in terms of inertia\n",
        "    MaxInt -- Maximum number of iterations of the k-means algorithm for a single run\n",
        "    YLim -- Min and max limit for the y label\n",
        "    SizeLb -- Label font size\n",
        "    SizeTk -- Tick label  font size\n",
        "    SizeTt -- Title font size\n",
        "    \n",
        "    Bibliographic Review:\n",
        "    .(Python Machine Learning, 2016)\n",
        "    Intuitively, we can say that, if k increases, the distortion will decrease.\n",
        "    This is because the samples will be closer to the centroids they are assigned to. The idea behind the\n",
        "    elbow method is to identify the value of k where the distortion begins to increase most rapidly, which\n",
        "    will become more clear if we plot distortion for different values of k.\n",
        "    . (medium.com/datadriveninvestor/k-means-clustering-algorithm-its-application-ff9e97297e6e, 2018)\n",
        "    Distortion (SSE) is the sum of the squared distance between each member of the cluster and its centroid.\n",
        "    \"\"\"\n",
        "    # Varies the number of clusters in order to calculate the distorcion for each k\n",
        "    Distortions = []\n",
        "    for k in range(1, NClustersMax):\n",
        "        km = KMeans(n_clusters=k, init='k-means++', n_init=25, max_iter=600)\n",
        "        km.fit(X)\n",
        "        Distortions.append(km.inertia_)\n",
        "    \n",
        "    # Plots the distortion for each k value\n",
        "    fig, ax = plt.subplots(figsize=(10,5))\n",
        "    plt.plot(range(1,NClustersMax), Distortions, marker='o')\n",
        "    ax.set_xlabel('Number of Clusters', fontsize=SizeLb)\n",
        "    ax.set_ylabel('Distortion', fontsize=SizeLb)\n",
        "    if YLim:\n",
        "        ax.set_ylim(YLim)\n",
        "    plt.title('Elbow Method Analysis' + TitleComp, fontsize=SizeTt)\n",
        "    plt.grid(b=True)\n",
        "    ax.tick_params(labelsize=SizeTk)\n",
        "    plt.show()\n",
        "    return None"
      ],
      "execution_count": 0,
      "outputs": []
    },
    {
      "cell_type": "code",
      "metadata": {
        "id": "oAZE6q8DJmsx",
        "colab_type": "code",
        "colab": {}
      },
      "source": [
        "from sklearn.preprocessing import StandardScaler\n",
        "from sklearn.cluster import KMeans"
      ],
      "execution_count": 0,
      "outputs": []
    },
    {
      "cell_type": "code",
      "metadata": {
        "id": "bZTpcsaW-TVI",
        "colab_type": "code",
        "colab": {}
      },
      "source": [
        "# Diferentes algoritmos de clustering foram testados com diferentes variáveis de entrada\n",
        "# As análises de clustering não foram muito conclusvias"
      ],
      "execution_count": 0,
      "outputs": []
    },
    {
      "cell_type": "code",
      "metadata": {
        "id": "EMy3yiAmJmql",
        "colab_type": "code",
        "colab": {}
      },
      "source": [
        "X = dfPF[['GRP_MEAN','GRP_SUM','GRP_SKEW']] #,'SEXO_CAT','CodFaixaEtaria'\n",
        "\n",
        "# Scaling the data using Standard Scaler\n",
        "StdScaler = StandardScaler()\n",
        "XStdSc = StdScaler.fit_transform(X)"
      ],
      "execution_count": 0,
      "outputs": []
    },
    {
      "cell_type": "code",
      "metadata": {
        "id": "pK7XrKNkKv6B",
        "colab_type": "code",
        "colab": {}
      },
      "source": [
        "# dfG = dfPaciente.copy()\n",
        "dfG = dfPF.copy()"
      ],
      "execution_count": 0,
      "outputs": []
    },
    {
      "cell_type": "code",
      "metadata": {
        "id": "ITknApzAKVf4",
        "colab_type": "code",
        "outputId": "631c0ea0-6e5d-4662-a613-40a25b7a39ff",
        "colab": {
          "base_uri": "https://localhost:8080/",
          "height": 373
        }
      },
      "source": [
        "ElbowMethodKMeans(X=XStdSc,TitleComp='')"
      ],
      "execution_count": 93,
      "outputs": [
        {
          "output_type": "display_data",
          "data": {
            "image/png": "[encoded data removed]",
            "text/plain": [
              "<Figure size 720x360 with 1 Axes>"
            ]
          },
          "metadata": {
            "tags": []
          }
        }
      ]
    },
    {
      "cell_type": "code",
      "metadata": {
        "id": "PQRwvbAuKVc5",
        "colab_type": "code",
        "colab": {}
      },
      "source": [
        "############# NUMBER OF CUSTERS #############\n",
        "NClusters = 8\n",
        "\n",
        "# Clustering\n",
        "KM = KMeans(n_clusters=NClusters, init='random', n_init=50, max_iter=1000, tol=1e-07, random_state=0)\n",
        "KM.fit(XStdSc)\n",
        "dfG['Clusters'] = KM.labels_ # Which cluster each sample belong"
      ],
      "execution_count": 0,
      "outputs": []
    },
    {
      "cell_type": "code",
      "metadata": {
        "id": "mS0ZJeaKLqYn",
        "colab_type": "code",
        "outputId": "02656cef-4891-48d8-ceec-cd90d3d2210a",
        "colab": {
          "base_uri": "https://localhost:8080/",
          "height": 195
        }
      },
      "source": [
        "dfG.groupby(['Clusters']).count()['PACIENTE_ID']"
      ],
      "execution_count": 95,
      "outputs": [
        {
          "output_type": "execute_result",
          "data": {
            "text/plain": [
              "Clusters\n",
              "0    483\n",
              "1     22\n",
              "2    185\n",
              "3     86\n",
              "4    704\n",
              "5    831\n",
              "6     15\n",
              "7    509\n",
              "Name: PACIENTE_ID, dtype: int64"
            ]
          },
          "metadata": {
            "tags": []
          },
          "execution_count": 95
        }
      ]
    },
    {
      "cell_type": "code",
      "metadata": {
        "id": "ZTSFURTrNrdF",
        "colab_type": "code",
        "colab": {}
      },
      "source": [
        ""
      ],
      "execution_count": 0,
      "outputs": []
    },
    {
      "cell_type": "code",
      "metadata": {
        "id": "ZA4IfokGMwHr",
        "colab_type": "code",
        "outputId": "49ccce3c-1b26-412f-d8f7-6407a9e64158",
        "colab": {
          "base_uri": "https://localhost:8080/",
          "height": 331
        }
      },
      "source": [
        "from sklearn.preprocessing import MinMaxScaler\n",
        "scaler = MinMaxScaler()\n",
        "dfG = dfG.select_dtypes(exclude=['object'])\n",
        "df_scaled = pd.DataFrame(scaler.fit_transform(dfG),columns=dfG.columns)\n",
        "df_scaled['Clusters'] = dfG['Clusters']\n",
        "df_mean = (df_scaled.groupby('Clusters').mean())\n",
        "df_mean"
      ],
      "execution_count": 96,
      "outputs": [
        {
          "output_type": "execute_result",
          "data": {
            "text/html": [
              "<div>\n",
              "<style scoped>\n",
              "    .dataframe tbody tr th:only-of-type {\n",
              "        vertical-align: middle;\n",
              "    }\n",
              "\n",
              "    .dataframe tbody tr th {\n",
              "        vertical-align: top;\n",
              "    }\n",
              "\n",
              "    .dataframe thead th {\n",
              "        text-align: right;\n",
              "    }\n",
              "</style>\n",
              "<table border=\"1\" class=\"dataframe\">\n",
              "  <thead>\n",
              "    <tr style=\"text-align: right;\">\n",
              "      <th></th>\n",
              "      <th>PACIENTE_ID</th>\n",
              "      <th>SEXO_CAT</th>\n",
              "      <th>IDADE</th>\n",
              "      <th>CodFaixaEtaria</th>\n",
              "      <th>COUNT_MESES</th>\n",
              "      <th>COUNT_PROC</th>\n",
              "      <th>VLR_SUM</th>\n",
              "      <th>VLR_MEAN</th>\n",
              "      <th>VLR_MEDIAN</th>\n",
              "      <th>VLR_MIN</th>\n",
              "      <th>VLR_MAX</th>\n",
              "      <th>VLR_STD</th>\n",
              "      <th>VLR_SKEW</th>\n",
              "      <th>VLR_KURT</th>\n",
              "      <th>PRD_SEM</th>\n",
              "      <th>PRD_CONS</th>\n",
              "      <th>PRD_EXM</th>\n",
              "      <th>PRD_OUT</th>\n",
              "      <th>PRD_TER</th>\n",
              "      <th>PRD_INT</th>\n",
              "      <th>PRDVL_SEM</th>\n",
              "      <th>PRDVL_CONS</th>\n",
              "      <th>PRDVL_EXM</th>\n",
              "      <th>PRDVL_OUT</th>\n",
              "      <th>PRDVL_TER</th>\n",
              "      <th>PRDVL_INT</th>\n",
              "      <th>COUNT_FOCO</th>\n",
              "      <th>VLR_FOCO</th>\n",
              "      <th>VLR_FOCOpTOT</th>\n",
              "      <th>GRP_SUM</th>\n",
              "      <th>GRP_SKEW</th>\n",
              "      <th>GRP_MEAN</th>\n",
              "      <th>GRP_SKEW1</th>\n",
              "      <th>GRP_MEAN1</th>\n",
              "      <th>GRP_SKEW2</th>\n",
              "      <th>GRP_MEAN2</th>\n",
              "      <th>GRP_MEANd</th>\n",
              "      <th>GRP_SKEWd</th>\n",
              "      <th>COUNT_FOCOpTot</th>\n",
              "    </tr>\n",
              "    <tr>\n",
              "      <th>Clusters</th>\n",
              "      <th></th>\n",
              "      <th></th>\n",
              "      <th></th>\n",
              "      <th></th>\n",
              "      <th></th>\n",
              "      <th></th>\n",
              "      <th></th>\n",
              "      <th></th>\n",
              "      <th></th>\n",
              "      <th></th>\n",
              "      <th></th>\n",
              "      <th></th>\n",
              "      <th></th>\n",
              "      <th></th>\n",
              "      <th></th>\n",
              "      <th></th>\n",
              "      <th></th>\n",
              "      <th></th>\n",
              "      <th></th>\n",
              "      <th></th>\n",
              "      <th></th>\n",
              "      <th></th>\n",
              "      <th></th>\n",
              "      <th></th>\n",
              "      <th></th>\n",
              "      <th></th>\n",
              "      <th></th>\n",
              "      <th></th>\n",
              "      <th></th>\n",
              "      <th></th>\n",
              "      <th></th>\n",
              "      <th></th>\n",
              "      <th></th>\n",
              "      <th></th>\n",
              "      <th></th>\n",
              "      <th></th>\n",
              "      <th></th>\n",
              "      <th></th>\n",
              "      <th></th>\n",
              "    </tr>\n",
              "  </thead>\n",
              "  <tbody>\n",
              "    <tr>\n",
              "      <th>0.0</th>\n",
              "      <td>0.474012</td>\n",
              "      <td>0.638783</td>\n",
              "      <td>0.502848</td>\n",
              "      <td>0.502444</td>\n",
              "      <td>0.470029</td>\n",
              "      <td>0.030965</td>\n",
              "      <td>0.022161</td>\n",
              "      <td>0.027400</td>\n",
              "      <td>0.096954</td>\n",
              "      <td>0.034414</td>\n",
              "      <td>0.013485</td>\n",
              "      <td>0.010645</td>\n",
              "      <td>0.162352</td>\n",
              "      <td>0.034233</td>\n",
              "      <td>0.000262</td>\n",
              "      <td>0.045759</td>\n",
              "      <td>0.090942</td>\n",
              "      <td>0.017595</td>\n",
              "      <td>0.016850</td>\n",
              "      <td>0.012798</td>\n",
              "      <td>0.000001</td>\n",
              "      <td>0.060685</td>\n",
              "      <td>0.153772</td>\n",
              "      <td>0.014035</td>\n",
              "      <td>0.059860</td>\n",
              "      <td>0.026231</td>\n",
              "      <td>0.166196</td>\n",
              "      <td>0.195215</td>\n",
              "      <td>0.246712</td>\n",
              "      <td>0.025943</td>\n",
              "      <td>0.655897</td>\n",
              "      <td>0.324315</td>\n",
              "      <td>0.656855</td>\n",
              "      <td>0.385128</td>\n",
              "      <td>0.791889</td>\n",
              "      <td>0.505704</td>\n",
              "      <td>0.537601</td>\n",
              "      <td>0.565296</td>\n",
              "      <td>0.314870</td>\n",
              "    </tr>\n",
              "    <tr>\n",
              "      <th>1.0</th>\n",
              "      <td>0.485674</td>\n",
              "      <td>0.727273</td>\n",
              "      <td>0.499487</td>\n",
              "      <td>0.506494</td>\n",
              "      <td>0.582888</td>\n",
              "      <td>0.036213</td>\n",
              "      <td>0.072588</td>\n",
              "      <td>0.059085</td>\n",
              "      <td>0.053108</td>\n",
              "      <td>0.052652</td>\n",
              "      <td>0.018198</td>\n",
              "      <td>0.020992</td>\n",
              "      <td>0.148938</td>\n",
              "      <td>0.030635</td>\n",
              "      <td>0.006270</td>\n",
              "      <td>0.040331</td>\n",
              "      <td>0.112601</td>\n",
              "      <td>0.020249</td>\n",
              "      <td>0.019728</td>\n",
              "      <td>0.027162</td>\n",
              "      <td>0.000000</td>\n",
              "      <td>0.055924</td>\n",
              "      <td>0.188865</td>\n",
              "      <td>0.067348</td>\n",
              "      <td>0.070390</td>\n",
              "      <td>0.042096</td>\n",
              "      <td>0.160704</td>\n",
              "      <td>0.194371</td>\n",
              "      <td>0.183099</td>\n",
              "      <td>0.030933</td>\n",
              "      <td>0.639387</td>\n",
              "      <td>0.334875</td>\n",
              "      <td>0.653349</td>\n",
              "      <td>0.436792</td>\n",
              "      <td>0.791572</td>\n",
              "      <td>0.507228</td>\n",
              "      <td>0.507064</td>\n",
              "      <td>0.564524</td>\n",
              "      <td>0.261388</td>\n",
              "    </tr>\n",
              "    <tr>\n",
              "      <th>2.0</th>\n",
              "      <td>0.530728</td>\n",
              "      <td>0.701923</td>\n",
              "      <td>0.509564</td>\n",
              "      <td>0.509615</td>\n",
              "      <td>0.509050</td>\n",
              "      <td>0.034835</td>\n",
              "      <td>0.024179</td>\n",
              "      <td>0.024381</td>\n",
              "      <td>0.073385</td>\n",
              "      <td>0.039150</td>\n",
              "      <td>0.012837</td>\n",
              "      <td>0.009700</td>\n",
              "      <td>0.175645</td>\n",
              "      <td>0.046056</td>\n",
              "      <td>0.000332</td>\n",
              "      <td>0.043228</td>\n",
              "      <td>0.095135</td>\n",
              "      <td>0.019648</td>\n",
              "      <td>0.025332</td>\n",
              "      <td>0.025621</td>\n",
              "      <td>0.000000</td>\n",
              "      <td>0.058756</td>\n",
              "      <td>0.154736</td>\n",
              "      <td>0.015367</td>\n",
              "      <td>0.067224</td>\n",
              "      <td>0.038334</td>\n",
              "      <td>0.169107</td>\n",
              "      <td>0.204269</td>\n",
              "      <td>0.273484</td>\n",
              "      <td>0.030487</td>\n",
              "      <td>0.662234</td>\n",
              "      <td>0.335359</td>\n",
              "      <td>0.653170</td>\n",
              "      <td>0.395960</td>\n",
              "      <td>0.792076</td>\n",
              "      <td>0.523658</td>\n",
              "      <td>0.547005</td>\n",
              "      <td>0.565644</td>\n",
              "      <td>0.321538</td>\n",
              "    </tr>\n",
              "    <tr>\n",
              "      <th>3.0</th>\n",
              "      <td>0.504744</td>\n",
              "      <td>0.500000</td>\n",
              "      <td>0.562046</td>\n",
              "      <td>0.568182</td>\n",
              "      <td>0.495989</td>\n",
              "      <td>0.028541</td>\n",
              "      <td>0.020518</td>\n",
              "      <td>0.026323</td>\n",
              "      <td>0.094538</td>\n",
              "      <td>0.043184</td>\n",
              "      <td>0.017929</td>\n",
              "      <td>0.010528</td>\n",
              "      <td>0.181763</td>\n",
              "      <td>0.051377</td>\n",
              "      <td>0.000000</td>\n",
              "      <td>0.044305</td>\n",
              "      <td>0.102498</td>\n",
              "      <td>0.011877</td>\n",
              "      <td>0.019886</td>\n",
              "      <td>0.024252</td>\n",
              "      <td>0.000000</td>\n",
              "      <td>0.058844</td>\n",
              "      <td>0.173053</td>\n",
              "      <td>0.010459</td>\n",
              "      <td>0.077440</td>\n",
              "      <td>0.028256</td>\n",
              "      <td>0.174780</td>\n",
              "      <td>0.212479</td>\n",
              "      <td>0.273310</td>\n",
              "      <td>0.023485</td>\n",
              "      <td>0.656383</td>\n",
              "      <td>0.348627</td>\n",
              "      <td>0.645466</td>\n",
              "      <td>0.428277</td>\n",
              "      <td>0.790310</td>\n",
              "      <td>0.511936</td>\n",
              "      <td>0.514167</td>\n",
              "      <td>0.569138</td>\n",
              "      <td>0.315728</td>\n",
              "    </tr>\n",
              "    <tr>\n",
              "      <th>4.0</th>\n",
              "      <td>0.500108</td>\n",
              "      <td>0.661765</td>\n",
              "      <td>0.528663</td>\n",
              "      <td>0.527311</td>\n",
              "      <td>0.486808</td>\n",
              "      <td>0.032285</td>\n",
              "      <td>0.028757</td>\n",
              "      <td>0.026434</td>\n",
              "      <td>0.083434</td>\n",
              "      <td>0.039552</td>\n",
              "      <td>0.016058</td>\n",
              "      <td>0.011447</td>\n",
              "      <td>0.172213</td>\n",
              "      <td>0.038302</td>\n",
              "      <td>0.005832</td>\n",
              "      <td>0.045024</td>\n",
              "      <td>0.095515</td>\n",
              "      <td>0.017685</td>\n",
              "      <td>0.019941</td>\n",
              "      <td>0.018367</td>\n",
              "      <td>0.000160</td>\n",
              "      <td>0.059870</td>\n",
              "      <td>0.153068</td>\n",
              "      <td>0.021214</td>\n",
              "      <td>0.058818</td>\n",
              "      <td>0.031822</td>\n",
              "      <td>0.163741</td>\n",
              "      <td>0.194343</td>\n",
              "      <td>0.250404</td>\n",
              "      <td>0.027364</td>\n",
              "      <td>0.654123</td>\n",
              "      <td>0.334793</td>\n",
              "      <td>0.650202</td>\n",
              "      <td>0.391605</td>\n",
              "      <td>0.790380</td>\n",
              "      <td>0.515765</td>\n",
              "      <td>0.541997</td>\n",
              "      <td>0.566826</td>\n",
              "      <td>0.307162</td>\n",
              "    </tr>\n",
              "    <tr>\n",
              "      <th>5.0</th>\n",
              "      <td>0.496221</td>\n",
              "      <td>0.695464</td>\n",
              "      <td>0.510458</td>\n",
              "      <td>0.509411</td>\n",
              "      <td>0.501715</td>\n",
              "      <td>0.031689</td>\n",
              "      <td>0.029977</td>\n",
              "      <td>0.028073</td>\n",
              "      <td>0.084944</td>\n",
              "      <td>0.036589</td>\n",
              "      <td>0.014153</td>\n",
              "      <td>0.011565</td>\n",
              "      <td>0.165337</td>\n",
              "      <td>0.035468</td>\n",
              "      <td>0.002234</td>\n",
              "      <td>0.046546</td>\n",
              "      <td>0.093456</td>\n",
              "      <td>0.017175</td>\n",
              "      <td>0.019548</td>\n",
              "      <td>0.019794</td>\n",
              "      <td>0.000074</td>\n",
              "      <td>0.061753</td>\n",
              "      <td>0.164134</td>\n",
              "      <td>0.022128</td>\n",
              "      <td>0.060551</td>\n",
              "      <td>0.031066</td>\n",
              "      <td>0.173204</td>\n",
              "      <td>0.206530</td>\n",
              "      <td>0.255180</td>\n",
              "      <td>0.026776</td>\n",
              "      <td>0.648816</td>\n",
              "      <td>0.340745</td>\n",
              "      <td>0.645828</td>\n",
              "      <td>0.394329</td>\n",
              "      <td>0.788953</td>\n",
              "      <td>0.518998</td>\n",
              "      <td>0.542859</td>\n",
              "      <td>0.567015</td>\n",
              "      <td>0.304043</td>\n",
              "    </tr>\n",
              "    <tr>\n",
              "      <th>6.0</th>\n",
              "      <td>0.568296</td>\n",
              "      <td>0.700000</td>\n",
              "      <td>0.582771</td>\n",
              "      <td>0.585714</td>\n",
              "      <td>0.541176</td>\n",
              "      <td>0.075375</td>\n",
              "      <td>0.047206</td>\n",
              "      <td>0.026338</td>\n",
              "      <td>0.078253</td>\n",
              "      <td>0.044769</td>\n",
              "      <td>0.029143</td>\n",
              "      <td>0.016859</td>\n",
              "      <td>0.183064</td>\n",
              "      <td>0.038475</td>\n",
              "      <td>0.000000</td>\n",
              "      <td>0.060260</td>\n",
              "      <td>0.167030</td>\n",
              "      <td>0.049434</td>\n",
              "      <td>0.048858</td>\n",
              "      <td>0.106707</td>\n",
              "      <td>0.000000</td>\n",
              "      <td>0.076427</td>\n",
              "      <td>0.228121</td>\n",
              "      <td>0.037315</td>\n",
              "      <td>0.073738</td>\n",
              "      <td>0.053997</td>\n",
              "      <td>0.220645</td>\n",
              "      <td>0.252240</td>\n",
              "      <td>0.247921</td>\n",
              "      <td>0.069497</td>\n",
              "      <td>0.634396</td>\n",
              "      <td>0.351420</td>\n",
              "      <td>0.654945</td>\n",
              "      <td>0.462272</td>\n",
              "      <td>0.782671</td>\n",
              "      <td>0.463927</td>\n",
              "      <td>0.460613</td>\n",
              "      <td>0.557140</td>\n",
              "      <td>0.323359</td>\n",
              "    </tr>\n",
              "    <tr>\n",
              "      <th>7.0</th>\n",
              "      <td>0.517219</td>\n",
              "      <td>0.667820</td>\n",
              "      <td>0.498484</td>\n",
              "      <td>0.495304</td>\n",
              "      <td>0.493283</td>\n",
              "      <td>0.038960</td>\n",
              "      <td>0.030096</td>\n",
              "      <td>0.029680</td>\n",
              "      <td>0.088909</td>\n",
              "      <td>0.041247</td>\n",
              "      <td>0.013419</td>\n",
              "      <td>0.012089</td>\n",
              "      <td>0.158073</td>\n",
              "      <td>0.029841</td>\n",
              "      <td>0.002506</td>\n",
              "      <td>0.052268</td>\n",
              "      <td>0.089839</td>\n",
              "      <td>0.024753</td>\n",
              "      <td>0.025519</td>\n",
              "      <td>0.019959</td>\n",
              "      <td>0.000086</td>\n",
              "      <td>0.066147</td>\n",
              "      <td>0.146196</td>\n",
              "      <td>0.022544</td>\n",
              "      <td>0.058943</td>\n",
              "      <td>0.030831</td>\n",
              "      <td>0.165152</td>\n",
              "      <td>0.194469</td>\n",
              "      <td>0.243819</td>\n",
              "      <td>0.034225</td>\n",
              "      <td>0.651264</td>\n",
              "      <td>0.332960</td>\n",
              "      <td>0.649476</td>\n",
              "      <td>0.401699</td>\n",
              "      <td>0.787975</td>\n",
              "      <td>0.515511</td>\n",
              "      <td>0.534770</td>\n",
              "      <td>0.565820</td>\n",
              "      <td>0.309266</td>\n",
              "    </tr>\n",
              "  </tbody>\n",
              "</table>\n",
              "</div>"
            ],
            "text/plain": [
              "          PACIENTE_ID  SEXO_CAT     IDADE  CodFaixaEtaria  COUNT_MESES  \\\n",
              "Clusters                                                                 \n",
              "0.0          0.474012  0.638783  0.502848        0.502444     0.470029   \n",
              "1.0          0.485674  0.727273  0.499487        0.506494     0.582888   \n",
              "2.0          0.530728  0.701923  0.509564        0.509615     0.509050   \n",
              "3.0          0.504744  0.500000  0.562046        0.568182     0.495989   \n",
              "4.0          0.500108  0.661765  0.528663        0.527311     0.486808   \n",
              "5.0          0.496221  0.695464  0.510458        0.509411     0.501715   \n",
              "6.0          0.568296  0.700000  0.582771        0.585714     0.541176   \n",
              "7.0          0.517219  0.667820  0.498484        0.495304     0.493283   \n",
              "\n",
              "          COUNT_PROC   VLR_SUM  VLR_MEAN  VLR_MEDIAN   VLR_MIN   VLR_MAX  \\\n",
              "Clusters                                                                   \n",
              "0.0         0.030965  0.022161  0.027400    0.096954  0.034414  0.013485   \n",
              "1.0         0.036213  0.072588  0.059085    0.053108  0.052652  0.018198   \n",
              "2.0         0.034835  0.024179  0.024381    0.073385  0.039150  0.012837   \n",
              "3.0         0.028541  0.020518  0.026323    0.094538  0.043184  0.017929   \n",
              "4.0         0.032285  0.028757  0.026434    0.083434  0.039552  0.016058   \n",
              "5.0         0.031689  0.029977  0.028073    0.084944  0.036589  0.014153   \n",
              "6.0         0.075375  0.047206  0.026338    0.078253  0.044769  0.029143   \n",
              "7.0         0.038960  0.030096  0.029680    0.088909  0.041247  0.013419   \n",
              "\n",
              "           VLR_STD  VLR_SKEW  VLR_KURT   PRD_SEM  PRD_CONS   PRD_EXM  \\\n",
              "Clusters                                                               \n",
              "0.0       0.010645  0.162352  0.034233  0.000262  0.045759  0.090942   \n",
              "1.0       0.020992  0.148938  0.030635  0.006270  0.040331  0.112601   \n",
              "2.0       0.009700  0.175645  0.046056  0.000332  0.043228  0.095135   \n",
              "3.0       0.010528  0.181763  0.051377  0.000000  0.044305  0.102498   \n",
              "4.0       0.011447  0.172213  0.038302  0.005832  0.045024  0.095515   \n",
              "5.0       0.011565  0.165337  0.035468  0.002234  0.046546  0.093456   \n",
              "6.0       0.016859  0.183064  0.038475  0.000000  0.060260  0.167030   \n",
              "7.0       0.012089  0.158073  0.029841  0.002506  0.052268  0.089839   \n",
              "\n",
              "           PRD_OUT   PRD_TER   PRD_INT  PRDVL_SEM  PRDVL_CONS  PRDVL_EXM  \\\n",
              "Clusters                                                                   \n",
              "0.0       0.017595  0.016850  0.012798   0.000001    0.060685   0.153772   \n",
              "1.0       0.020249  0.019728  0.027162   0.000000    0.055924   0.188865   \n",
              "2.0       0.019648  0.025332  0.025621   0.000000    0.058756   0.154736   \n",
              "3.0       0.011877  0.019886  0.024252   0.000000    0.058844   0.173053   \n",
              "4.0       0.017685  0.019941  0.018367   0.000160    0.059870   0.153068   \n",
              "5.0       0.017175  0.019548  0.019794   0.000074    0.061753   0.164134   \n",
              "6.0       0.049434  0.048858  0.106707   0.000000    0.076427   0.228121   \n",
              "7.0       0.024753  0.025519  0.019959   0.000086    0.066147   0.146196   \n",
              "\n",
              "          PRDVL_OUT  PRDVL_TER  PRDVL_INT  COUNT_FOCO  VLR_FOCO  VLR_FOCOpTOT  \\\n",
              "Clusters                                                                        \n",
              "0.0        0.014035   0.059860   0.026231    0.166196  0.195215      0.246712   \n",
              "1.0        0.067348   0.070390   0.042096    0.160704  0.194371      0.183099   \n",
              "2.0        0.015367   0.067224   0.038334    0.169107  0.204269      0.273484   \n",
              "3.0        0.010459   0.077440   0.028256    0.174780  0.212479      0.273310   \n",
              "4.0        0.021214   0.058818   0.031822    0.163741  0.194343      0.250404   \n",
              "5.0        0.022128   0.060551   0.031066    0.173204  0.206530      0.255180   \n",
              "6.0        0.037315   0.073738   0.053997    0.220645  0.252240      0.247921   \n",
              "7.0        0.022544   0.058943   0.030831    0.165152  0.194469      0.243819   \n",
              "\n",
              "           GRP_SUM  GRP_SKEW  GRP_MEAN  GRP_SKEW1  GRP_MEAN1  GRP_SKEW2  \\\n",
              "Clusters                                                                  \n",
              "0.0       0.025943  0.655897  0.324315   0.656855   0.385128   0.791889   \n",
              "1.0       0.030933  0.639387  0.334875   0.653349   0.436792   0.791572   \n",
              "2.0       0.030487  0.662234  0.335359   0.653170   0.395960   0.792076   \n",
              "3.0       0.023485  0.656383  0.348627   0.645466   0.428277   0.790310   \n",
              "4.0       0.027364  0.654123  0.334793   0.650202   0.391605   0.790380   \n",
              "5.0       0.026776  0.648816  0.340745   0.645828   0.394329   0.788953   \n",
              "6.0       0.069497  0.634396  0.351420   0.654945   0.462272   0.782671   \n",
              "7.0       0.034225  0.651264  0.332960   0.649476   0.401699   0.787975   \n",
              "\n",
              "          GRP_MEAN2  GRP_MEANd  GRP_SKEWd  COUNT_FOCOpTot  \n",
              "Clusters                                                   \n",
              "0.0        0.505704   0.537601   0.565296        0.314870  \n",
              "1.0        0.507228   0.507064   0.564524        0.261388  \n",
              "2.0        0.523658   0.547005   0.565644        0.321538  \n",
              "3.0        0.511936   0.514167   0.569138        0.315728  \n",
              "4.0        0.515765   0.541997   0.566826        0.307162  \n",
              "5.0        0.518998   0.542859   0.567015        0.304043  \n",
              "6.0        0.463927   0.460613   0.557140        0.323359  \n",
              "7.0        0.515511   0.534770   0.565820        0.309266  "
            ]
          },
          "metadata": {
            "tags": []
          },
          "execution_count": 96
        }
      ]
    },
    {
      "cell_type": "code",
      "metadata": {
        "id": "5kQCXhAkN-iV",
        "colab_type": "code",
        "outputId": "4844a958-bb58-4e1a-e1ee-d20641f1d3fc",
        "colab": {
          "base_uri": "https://localhost:8080/",
          "height": 352
        }
      },
      "source": [
        "nVar = 7\n",
        "results = pd.DataFrame(columns=['Variable', 'Var'])\n",
        "for column in df_mean.columns[1:]:\n",
        "    results.loc[len(results), :] = [column, np.var(df_mean[column])]\n",
        "selected_columns = list(results.sort_values('Var', ascending=False,).head(nVar).Variable.values) + ['Clusters']\n",
        "tidy = df_scaled[selected_columns].melt(id_vars='Clusters')\n",
        "fig, ax = plt.subplots(figsize=(15,5))\n",
        "sns.barplot(x='Clusters', y='value', hue='variable', data=tidy)"
      ],
      "execution_count": 97,
      "outputs": [
        {
          "output_type": "execute_result",
          "data": {
            "text/plain": [
              "<matplotlib.axes._subplots.AxesSubplot at 0x7f17dfe92240>"
            ]
          },
          "metadata": {
            "tags": []
          },
          "execution_count": 97
        },
        {
          "output_type": "display_data",
          "data": {
            "image/png": "[encoded data removed]",
            "text/plain": [
              "<Figure size 1080x360 with 1 Axes>"
            ]
          },
          "metadata": {
            "tags": []
          }
        }
      ]
    },
    {
      "cell_type": "code",
      "metadata": {
        "id": "LGhzuWMKtNb5",
        "colab_type": "code",
        "colab": {}
      },
      "source": [
        ""
      ],
      "execution_count": 0,
      "outputs": []
    },
    {
      "cell_type": "markdown",
      "metadata": {
        "id": "eohPxJzNS-zO",
        "colab_type": "text"
      },
      "source": [
        "# REGRESSÃO"
      ]
    },
    {
      "cell_type": "code",
      "metadata": {
        "id": "wQfZngKvS_FY",
        "colab_type": "code",
        "colab": {}
      },
      "source": [
        "def DecisionTreeVisualization(Estimator, FeatureNames, TargetNames, FileName='Tree', Pp=True, Imp=True):\n",
        "    \"\"\"Create a dot file to visualize the decision trees.\n",
        "    \n",
        "    Keyword arguments:\n",
        "    Estimator -- Estimator used for the prediction\n",
        "    FeatureNames -- Name of the features of the X data frame\n",
        "    TargetNames -- Possible targets\n",
        "    FileName -- File name to save the .dot\n",
        "    Pp -- When set to True, change the display of 'values' and/or 'samples' to be proportions and percentages respectively\n",
        "    Imp -- When set to True, show the impurity at each node\n",
        "    \n",
        "\n",
        "    scikit-learn.org/stable/modules/generated/sklearn.tree.export_graphviz.html\n",
        "    webgraphviz.com\n",
        "    \"\"\"\n",
        "    export_graphviz(Estimator, out_file=FileName+'.dot', feature_names = FeatureNames, class_names = TargetNames,\n",
        "                    proportion = Pp, impurity=Imp, rounded = True, precision = 2, filled = True)\n",
        "    return print('Check the Decision Tree in the website: webgraphviz.com')"
      ],
      "execution_count": 0,
      "outputs": []
    },
    {
      "cell_type": "code",
      "metadata": {
        "id": "Mr1lyWdrS_KK",
        "colab_type": "code",
        "colab": {}
      },
      "source": [
        "from sklearn.tree import DecisionTreeRegressor\n",
        "from sklearn.model_selection import cross_val_score\n",
        "from sklearn.model_selection import train_test_split\n",
        "from sklearn.metrics import mean_squared_error\n",
        "from sklearn.ensemble import RandomForestRegressor\n",
        "from sklearn.tree import export_graphviz"
      ],
      "execution_count": 0,
      "outputs": []
    },
    {
      "cell_type": "markdown",
      "metadata": {
        "id": "H5Fabo50bXbB",
        "colab_type": "text"
      },
      "source": [
        "## FOCOpTot"
      ]
    },
    {
      "cell_type": "code",
      "metadata": {
        "id": "lzfiGLmeS_PL",
        "colab_type": "code",
        "colab": {}
      },
      "source": [
        "# SEPARAÇÃO DOS DADOS\n",
        "df = dfPF[['COUNT_FOCOpTot','SEXO_CAT','CodFaixaEtaria'] \n",
        "xTrain, xTest, yTrain, yTest = train_test_split(df.loc[:, df.columns != 'COUNT_FOCOpTot'],\n",
        "                                                df['COUNT_FOCOpTot'], test_size = 0.2, random_state = 0)"
      ],
      "execution_count": 0,
      "outputs": []
    },
    {
      "cell_type": "code",
      "metadata": {
        "id": "ocyh4nRvS_M9",
        "colab_type": "code",
        "outputId": "968e5a4b-477b-49b2-88ec-7501f914bd6f",
        "colab": {
          "base_uri": "https://localhost:8080/",
          "height": 35
        }
      },
      "source": [
        "DT = DecisionTreeRegressor(max_depth=6,min_samples_split=5,min_samples_leaf=2)\n",
        "scoreDT = np.sqrt(-cross_val_score(DT, xTrain, yTrain, cv=5, scoring='neg_mean_squared_error', n_jobs=-1))\n",
        "scoreDT"
      ],
      "execution_count": 165,
      "outputs": [
        {
          "output_type": "execute_result",
          "data": {
            "text/plain": [
              "array([7.0124523 , 6.31488454, 6.70059737, 6.80168651, 6.69944505])"
            ]
          },
          "metadata": {
            "tags": []
          },
          "execution_count": 165
        }
      ]
    },
    {
      "cell_type": "code",
      "metadata": {
        "id": "PeSoyIvnS_Ii",
        "colab_type": "code",
        "outputId": "b96907a0-7536-4260-9381-cea68f0db45f",
        "colab": {
          "base_uri": "https://localhost:8080/",
          "height": 52
        }
      },
      "source": [
        "DT.fit(xTrain,yTrain)\n",
        "predictionDT = DT.predict(xTrain)\n",
        "print(np.sqrt(mean_squared_error(yTrain,predictionDT)))\n",
        "print(np.sqrt(mean_squared_error(yTrain,predictionDT))/yTrain.mean()*100)\n"
      ],
      "execution_count": 166,
      "outputs": [
        {
          "output_type": "stream",
          "text": [
            "6.696161209256249\n",
            "44.73432566011913\n"
          ],
          "name": "stdout"
        }
      ]
    },
    {
      "cell_type": "code",
      "metadata": {
        "id": "Aelcx_-7_VrE",
        "colab_type": "code",
        "outputId": "e8d77975-36b1-49f7-cad5-ca31f33b6778",
        "colab": {
          "base_uri": "https://localhost:8080/",
          "height": 52
        }
      },
      "source": [
        "predictionDTe = DT.predict(xTest)\n",
        "print(np.sqrt(mean_squared_error(yTest,predictionDTe)))\n",
        "print(np.sqrt(mean_squared_error(yTest,predictionDTe))/yTest.mean()*100)"
      ],
      "execution_count": 167,
      "outputs": [
        {
          "output_type": "stream",
          "text": [
            "6.6532158898987355\n",
            "46.73324092359215\n"
          ],
          "name": "stdout"
        }
      ]
    },
    {
      "cell_type": "code",
      "metadata": {
        "id": "WzZBOV1CJcN2",
        "colab_type": "code",
        "colab": {
          "base_uri": "https://localhost:8080/",
          "height": 35
        },
        "outputId": "be0c51a2-3751-4943-f14e-19becd2b5e23"
      },
      "source": [
        "DecisionTreeVisualization(DT, xTrain.columns, 'FOCOpTot', FileName='TreeCOUNT_FOCOpTot_CNAE', Pp=False, Imp=False)"
      ],
      "execution_count": 168,
      "outputs": [
        {
          "output_type": "stream",
          "text": [
            "Check the Decision Tree in the website: webgraphviz.com\n"
          ],
          "name": "stdout"
        }
      ]
    },
    {
      "cell_type": "code",
      "metadata": {
        "id": "4f1U9sJpJcKD",
        "colab_type": "code",
        "colab": {}
      },
      "source": [
        ""
      ],
      "execution_count": 0,
      "outputs": []
    },
    {
      "cell_type": "markdown",
      "metadata": {
        "id": "uJtMgn8lJmJx",
        "colab_type": "text"
      },
      "source": [
        "## Tree MEANd"
      ]
    },
    {
      "cell_type": "code",
      "metadata": {
        "id": "emYzBT2UTOvx",
        "colab_type": "code",
        "colab": {}
      },
      "source": [
        "# SEPARAÇÃO DOS DADOS\n",
        "df = dfPF[['GRP_MEANd','SEXO_CAT','CodFaixaEtaria']].dropna()\n",
        "xTrain, xTest, yTrain, yTest = train_test_split(df.loc[:, df.columns != 'GRP_MEANd'],\n",
        "                                                df['GRP_MEANd'], test_size = 0.2, random_state = 0)"
      ],
      "execution_count": 0,
      "outputs": []
    },
    {
      "cell_type": "code",
      "metadata": {
        "id": "8tH5UVWyB1WR",
        "colab_type": "code",
        "colab": {
          "base_uri": "https://localhost:8080/",
          "height": 35
        },
        "outputId": "8a7fce4f-c23e-4b10-e5c3-6469370d7e6d"
      },
      "source": [
        "DT = DecisionTreeRegressor(max_depth=6,min_samples_split=5,min_samples_leaf=2)\n",
        "scoreDT = np.sqrt(-cross_val_score(DT, xTrain, yTrain, cv=5, scoring='neg_mean_squared_error', n_jobs=-1))\n",
        "scoreDT"
      ],
      "execution_count": 114,
      "outputs": [
        {
          "output_type": "execute_result",
          "data": {
            "text/plain": [
              "array([0.49650844, 0.48260485, 0.50431748, 0.47862485, 0.49063818])"
            ]
          },
          "metadata": {
            "tags": []
          },
          "execution_count": 114
        }
      ]
    },
    {
      "cell_type": "code",
      "metadata": {
        "id": "gNmJZoL7U4Vj",
        "colab_type": "code",
        "colab": {
          "base_uri": "https://localhost:8080/",
          "height": 52
        },
        "outputId": "9e2e4029-f34d-4630-fbe6-a952feb3325e"
      },
      "source": [
        "DT.fit(xTrain,yTrain)\n",
        "predictionDT = DT.predict(xTrain)\n",
        "print(np.sqrt(mean_squared_error(yTrain,predictionDT)))\n",
        "print(np.sqrt(mean_squared_error(yTrain,predictionDT))/yTrain.abs().mean()*100)"
      ],
      "execution_count": 115,
      "outputs": [
        {
          "output_type": "stream",
          "text": [
            "0.4857668463915817\n",
            "110.62011031055168\n"
          ],
          "name": "stdout"
        }
      ]
    },
    {
      "cell_type": "code",
      "metadata": {
        "id": "7CUqhQIDTRM8",
        "colab_type": "code",
        "outputId": "5c813873-beeb-4a6a-df8e-a540a21f43ae",
        "colab": {
          "base_uri": "https://localhost:8080/",
          "height": 52
        }
      },
      "source": [
        "predictionDTe = DT.predict(xTest)\n",
        "print(np.sqrt(mean_squared_error(yTest,predictionDTe)))\n",
        "print(np.sqrt(mean_squared_error(yTest,predictionDTe))/yTest.mean()*100)"
      ],
      "execution_count": 116,
      "outputs": [
        {
          "output_type": "stream",
          "text": [
            "0.44797095831970885\n",
            "135.7954106687563\n"
          ],
          "name": "stdout"
        }
      ]
    },
    {
      "cell_type": "code",
      "metadata": {
        "id": "aiQghOmRWpOY",
        "colab_type": "code",
        "colab": {
          "base_uri": "https://localhost:8080/",
          "height": 35
        },
        "outputId": "a7f3f717-06c7-4470-eeaa-c2d6c986f3ec"
      },
      "source": [
        "DecisionTreeVisualization(DT, xTrain.columns, 'Mean Diff', FileName='TreeMEANd', Pp=False, Imp=False)"
      ],
      "execution_count": 117,
      "outputs": [
        {
          "output_type": "stream",
          "text": [
            "Check the Decision Tree in the website: webgraphviz.com\n"
          ],
          "name": "stdout"
        }
      ]
    },
    {
      "cell_type": "code",
      "metadata": {
        "id": "yT5Ct1h-GBEB",
        "colab_type": "code",
        "colab": {}
      },
      "source": [
        ""
      ],
      "execution_count": 0,
      "outputs": []
    }
  ]
}